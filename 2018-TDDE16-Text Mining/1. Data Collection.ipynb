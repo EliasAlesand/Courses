{
 "cells": [
  {
   "cell_type": "markdown",
   "metadata": {},
   "source": [
    "# Data Collection\n",
    "This notebook collects the data that is used in my project. This is done by querying [DBpedia](https://wiki.dbpedia.org/) with SPARQL.\n",
    "\n",
    "(I am new to SPARQL so queries might not be optimal)"
   ]
  },
  {
   "cell_type": "code",
   "execution_count": 1,
   "metadata": {},
   "outputs": [],
   "source": [
    "from SPARQLWrapper import SPARQLWrapper, JSON, XML, N3, RDF\n",
    "import pandas as pd\n",
    "import random as rand\n",
    "import matplotlib.pyplot as plt"
   ]
  },
  {
   "cell_type": "markdown",
   "metadata": {},
   "source": [
    "Given a SPARQL query and a label (i.e *Person*, *Animal*, *City* etc.) the function getData will query DBpedia, extract the abstract and label the abstracts with the given label. Returns a pandas dataframe consisting of the URL to the dbpedia page, the abstract, and the correct class label."
   ]
  },
  {
   "cell_type": "code",
   "execution_count": 2,
   "metadata": {},
   "outputs": [],
   "source": [
    "sparql = SPARQLWrapper(\"http://dbpedia.org/sparql\")\n",
    "sparql.setReturnFormat(JSON)\n",
    "prefix = \"\"\"PREFIX owl: <http://www.w3.org/2002/07/owl#>\n",
    "    PREFIX xsd: <http://www.w3.org/2001/XMLSchema#>\n",
    "    PREFIX rdfs: <http://www.w3.org/2000/01/rdf-schema#>\n",
    "    PREFIX rdf: <http://www.w3.org/1999/02/22-rdf-syntax-ns#>\n",
    "    PREFIX foaf: <http://xmlns.com/foaf/0.1/>\n",
    "    PREFIX dc: <http://purl.org/dc/elements/1.1/>\n",
    "    PREFIX : <http://dbpedia.org/resource/>\n",
    "    PREFIX dbpedia2: <http://dbpedia.org/property/>\n",
    "    PREFIX dbpedia: <http://dbpedia.org/>\n",
    "    PREFIX skos: <http://www.w3.org/2004/02/skos/core#>\"\"\"\n",
    "def getData(query,db_type, label):\n",
    "    sparql.setQuery(prefix+query)\n",
    "    results = sparql.query().convert()\n",
    "    res = pd.DataFrame.from_dict(results[\"results\"][\"bindings\"])\n",
    "    df = pd.DataFrame()\n",
    "    df['page'] = res[db_type].apply(lambda text: text['value'])\n",
    "    df['abstract'] = res['abstract'].apply(lambda text: text['value'])\n",
    "    df['label'] = label\n",
    "    return df"
   ]
  },
  {
   "cell_type": "markdown",
   "metadata": {},
   "source": [
    "Building a bunch of queries to compile a dataset consisting of abstracts of different classes."
   ]
  },
  {
   "cell_type": "code",
   "execution_count": 3,
   "metadata": {},
   "outputs": [],
   "source": [
    "persons = getData(\"\"\"SELECT ?person, ?abstract WHERE {\n",
    "    ?person dbo:abstract ?abstract .\n",
    "    ?person a dbo:Person .\n",
    "    FILTER (lang(?abstract) = 'en')\n",
    "}\n",
    "\"\"\", 'person','Person')\n",
    "cities = getData(\"\"\"SELECT ?city, ?abstract WHERE {\n",
    "    ?city dbo:abstract ?abstract .\n",
    "    ?city a dbo:City .\n",
    "    ?city dbo:populationTotal ?pop .\n",
    "    FILTER (lang(?abstract) = 'en' && ?pop > 1000)\n",
    "}\n",
    "\"\"\", 'city','City')\n",
    "mammals = getData(\"\"\"SELECT ?animal, ?abstract WHERE {\n",
    "    ?animal dbo:abstract ?abstract .\n",
    "    ?animal a dbo:Mammal .\n",
    "    FILTER (lang(?abstract) = 'en')\n",
    "}\n",
    "\"\"\",'animal', 'Mammal')\n",
    "fish = getData(\"\"\"SELECT ?animal, ?abstract WHERE {\n",
    "    ?animal dbo:abstract ?abstract .\n",
    "    ?animal a dbo:Fish .\n",
    "    FILTER (lang(?abstract) = 'en')\n",
    "}\n",
    "\"\"\",'animal', 'Fish')\n",
    "birds = getData(\"\"\"SELECT ?animal, ?abstract WHERE {\n",
    "    ?animal dbo:abstract ?abstract .\n",
    "    ?animal a dbo:Bird .\n",
    "    FILTER (lang(?abstract) = 'en')\n",
    "}\n",
    "\"\"\",'animal', 'Bird')\n",
    "countries = getData(\"\"\"SELECT ?country, ?abstract WHERE {\n",
    "    ?country dbo:abstract ?abstract .\n",
    "    ?country dbo:populationTotal ?pop .\n",
    "    ?country a dbo:Country .\n",
    "    FILTER (lang(?abstract) = 'en' && ?pop > 10000)\n",
    "}\n",
    "\"\"\",'country', 'Country')\n",
    "companies = getData(\"\"\"SELECT ?company, ?abstract WHERE {\n",
    "    ?company dbo:abstract ?abstract .\n",
    "    ?company a dbo:Company .\n",
    "    ?company dbo:numberOfEmployees ?employees .\n",
    "    FILTER (lang(?abstract) = 'en' && ?employees > 1000)\n",
    "}\n",
    "\"\"\",'company', 'Company')\n",
    "books = getData(\"\"\"SELECT ?book, ?abstract WHERE {\n",
    "    ?book dbo:abstract ?abstract .\n",
    "    ?book a dbo:Book .\n",
    "    ?book dbo:isbn ?isbn .\n",
    "    ?book dbo:numberOfPages ?pages .\n",
    "    FILTER (lang(?abstract) = 'en' && ?pages>400)\n",
    "}\n",
    "\"\"\",'book', 'Book')\n",
    "universities = getData(\"\"\"SELECT ?university, ?abstract WHERE {\n",
    "    ?university dbo:abstract ?abstract .\n",
    "    ?university a dbo:University .\n",
    "    ?university dbo:numberOfStudents ?students\n",
    "    FILTER (lang(?abstract) = 'en' && ?students>1000)\n",
    "}\n",
    "\"\"\",'university', 'University')\n",
    "planets = getData(\"\"\"SELECT ?planet, ?abstract WHERE {\n",
    "    ?planet dbo:abstract ?abstract .\n",
    "    ?planet a dbo:Planet .\n",
    "    FILTER (lang(?abstract) = 'en')\n",
    "}\n",
    "\"\"\",'planet', 'Planet')\n",
    "plants = getData(\"\"\"SELECT ?plant, ?abstract WHERE {\n",
    "    ?plant dbo:abstract ?abstract .\n",
    "    ?plant a dbo:Plant .\n",
    "    FILTER (lang(?abstract) = 'en')\n",
    "}\n",
    "\"\"\",'plant', 'Plant')\n",
    "boardgames = getData(\"\"\"SELECT ?boardgame, ?abstract WHERE {\n",
    "    ?boardgame dbo:abstract ?abstract .\n",
    "    ?boardgame a dbo:VideoGame .\n",
    "    ?boardgame dbp:ages ?ages.\n",
    "    FILTER (lang(?abstract) = 'en')\n",
    "}\n",
    "\"\"\",'boardgame', 'Board Game')\n",
    "videogames = getData(\"\"\"SELECT ?videogame, ?abstract WHERE {\n",
    "    ?videogame dbo:abstract ?abstract .\n",
    "    ?videogame a dbo:Software .\n",
    "    ?videogame dbo:designer ?designer .\n",
    "    FILTER (lang(?abstract) = 'en')\n",
    "}\n",
    "\"\"\",'videogame', 'Video Game')"
   ]
  },
  {
   "cell_type": "code",
   "execution_count": 7,
   "metadata": {},
   "outputs": [
    {
     "data": {
      "text/html": [
       "<div>\n",
       "<style scoped>\n",
       "    .dataframe tbody tr th:only-of-type {\n",
       "        vertical-align: middle;\n",
       "    }\n",
       "\n",
       "    .dataframe tbody tr th {\n",
       "        vertical-align: top;\n",
       "    }\n",
       "\n",
       "    .dataframe thead th {\n",
       "        text-align: right;\n",
       "    }\n",
       "</style>\n",
       "<table border=\"1\" class=\"dataframe\">\n",
       "  <thead>\n",
       "    <tr style=\"text-align: right;\">\n",
       "      <th></th>\n",
       "      <th>page</th>\n",
       "      <th>abstract</th>\n",
       "      <th>label</th>\n",
       "    </tr>\n",
       "  </thead>\n",
       "  <tbody>\n",
       "    <tr>\n",
       "      <th>0</th>\n",
       "      <td>http://dbpedia.org/resource/Andreas_Ekberg</td>\n",
       "      <td>Andreas Ekberg (born 2 January 1985) is a Swed...</td>\n",
       "      <td>Person</td>\n",
       "    </tr>\n",
       "    <tr>\n",
       "      <th>1</th>\n",
       "      <td>http://dbpedia.org/resource/Danilo_Tognon</td>\n",
       "      <td>The Canoeist Danilo Tognon (born October 9, 19...</td>\n",
       "      <td>Person</td>\n",
       "    </tr>\n",
       "    <tr>\n",
       "      <th>2</th>\n",
       "      <td>http://dbpedia.org/resource/Lorine_Livington_P...</td>\n",
       "      <td>Lorine Livington Pruette (1896–1977) was an Am...</td>\n",
       "      <td>Person</td>\n",
       "    </tr>\n",
       "    <tr>\n",
       "      <th>3</th>\n",
       "      <td>http://dbpedia.org/resource/Megan_Lawrence</td>\n",
       "      <td>Megan Lawrence (born 1972) is an American actr...</td>\n",
       "      <td>Person</td>\n",
       "    </tr>\n",
       "    <tr>\n",
       "      <th>4</th>\n",
       "      <td>http://dbpedia.org/resource/Nikolaos_Ventouras</td>\n",
       "      <td>Nikos Ventouras (August 31, 1899 – April 1, 19...</td>\n",
       "      <td>Person</td>\n",
       "    </tr>\n",
       "  </tbody>\n",
       "</table>\n",
       "</div>"
      ],
      "text/plain": [
       "                                                page  \\\n",
       "0         http://dbpedia.org/resource/Andreas_Ekberg   \n",
       "1          http://dbpedia.org/resource/Danilo_Tognon   \n",
       "2  http://dbpedia.org/resource/Lorine_Livington_P...   \n",
       "3         http://dbpedia.org/resource/Megan_Lawrence   \n",
       "4     http://dbpedia.org/resource/Nikolaos_Ventouras   \n",
       "\n",
       "                                            abstract   label  \n",
       "0  Andreas Ekberg (born 2 January 1985) is a Swed...  Person  \n",
       "1  The Canoeist Danilo Tognon (born October 9, 19...  Person  \n",
       "2  Lorine Livington Pruette (1896–1977) was an Am...  Person  \n",
       "3  Megan Lawrence (born 1972) is an American actr...  Person  \n",
       "4  Nikos Ventouras (August 31, 1899 – April 1, 19...  Person  "
      ]
     },
     "execution_count": 7,
     "metadata": {},
     "output_type": "execute_result"
    }
   ],
   "source": [
    "data = persons.append([cities, mammals, fish,birds, countries, companies, books, universities, planets, plants, boardgames, videogames])\n",
    "data.head()"
   ]
  },
  {
   "cell_type": "markdown",
   "metadata": {},
   "source": [
    "Show the abstract distribution over the classes"
   ]
  },
  {
   "cell_type": "code",
   "execution_count": 8,
   "metadata": {},
   "outputs": [
    {
     "name": "stdout",
     "output_type": "stream",
     "text": [
      "89271\n"
     ]
    },
    {
     "data": {
      "image/png": "[encoded data removed]",
      "text/plain": [
       "<Figure size 1080x432 with 1 Axes>"
      ]
     },
     "metadata": {},
     "output_type": "display_data"
    }
   ],
   "source": [
    "print(len(data))\n",
    "data.label.value_counts().plot.bar(rot=0,figsize=(15, 6))\n",
    "plt.show()"
   ]
  },
  {
   "cell_type": "markdown",
   "metadata": {},
   "source": [
    "Save model"
   ]
  },
  {
   "cell_type": "code",
   "execution_count": 9,
   "metadata": {},
   "outputs": [],
   "source": [
    "data.to_pickle('abstracts.pkl')"
   ]
  }
 ],
 "metadata": {
  "kernelspec": {
   "display_name": "Python 3",
   "language": "python",
   "name": "python3"
  },
  "language_info": {
   "codemirror_mode": {
    "name": "ipython",
    "version": 3
   },
   "file_extension": ".py",
   "mimetype": "text/x-python",
   "name": "python",
   "nbconvert_exporter": "python",
   "pygments_lexer": "ipython3",
   "version": "3.6.5"
  }
 },
 "nbformat": 4,
 "nbformat_minor": 2
}
