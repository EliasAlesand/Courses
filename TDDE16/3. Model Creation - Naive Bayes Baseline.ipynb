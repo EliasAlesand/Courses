{
 "cells": [
  {
   "cell_type": "markdown",
   "metadata": {},
   "source": [
    "# Model Creation - Naive Bayes Baseline\n",
    "This notebook creates the model that classify the abstracts"
   ]
  },
  {
   "cell_type": "code",
   "execution_count": 84,
   "metadata": {},
   "outputs": [],
   "source": [
    "import pandas as pd\n",
    "import numpy as np\n",
    "from sklearn.feature_extraction.text import TfidfVectorizer, TfidfTransformer, CountVectorizer\n",
    "from sklearn.model_selection import train_test_split\n",
    "from sklearn.naive_bayes import MultinomialNB\n",
    "from sklearn.pipeline import Pipeline\n",
    "from sklearn.metrics import classification_report,accuracy_score, confusion_matrix"
   ]
  },
  {
   "cell_type": "markdown",
   "metadata": {},
   "source": [
    "Import data"
   ]
  },
  {
   "cell_type": "code",
   "execution_count": 85,
   "metadata": {},
   "outputs": [
    {
     "data": {
      "text/plain": [
       "'bojan pandžić  born 13 march 1982  swedish football referee  pandžić currently resides hisings backa  part gothenburg  he full international referee fifa since 2014  he became professional referee 2004 allsvenskan referee since 2009  pandzic refereed 42 matches allsvenskan  65 matches superettan 8 international matches 2014 '"
      ]
     },
     "execution_count": 85,
     "metadata": {},
     "output_type": "execute_result"
    }
   ],
   "source": [
    "data = pd.read_pickle('preprocessed_abstracts.pkl')\n",
    "data.iloc[0]['abstract']"
   ]
  },
  {
   "cell_type": "markdown",
   "metadata": {},
   "source": [
    "Divide into training and test data. 80% train 20% test."
   ]
  },
  {
   "cell_type": "code",
   "execution_count": 86,
   "metadata": {},
   "outputs": [],
   "source": [
    "x = data['abstract']\n",
    "y = data['label']\n",
    "\n",
    "train_x, test_x, train_y, test_y = train_test_split(x,y,test_size=0.2,random_state=1)"
   ]
  },
  {
   "cell_type": "code",
   "execution_count": 87,
   "metadata": {},
   "outputs": [],
   "source": [
    "nb = Pipeline([('vect', CountVectorizer()),\n",
    "               ('tfidf', TfidfTransformer()),\n",
    "               ('clf', MultinomialNB()),\n",
    "              ])"
   ]
  },
  {
   "cell_type": "code",
   "execution_count": 88,
   "metadata": {},
   "outputs": [
    {
     "data": {
      "text/plain": [
       "Pipeline(memory=None,\n",
       "     steps=[('vect', CountVectorizer(analyzer='word', binary=False, decode_error='strict',\n",
       "        dtype=<class 'numpy.int64'>, encoding='utf-8', input='content',\n",
       "        lowercase=True, max_df=1.0, max_features=None, min_df=1,\n",
       "        ngram_range=(1, 1), preprocessor=None, stop_words=None,\n",
       "        strip...inear_tf=False, use_idf=True)), ('clf', MultinomialNB(alpha=1.0, class_prior=None, fit_prior=True))])"
      ]
     },
     "execution_count": 88,
     "metadata": {},
     "output_type": "execute_result"
    }
   ],
   "source": [
    "nb.fit(train_x, train_y)"
   ]
  },
  {
   "cell_type": "code",
   "execution_count": 89,
   "metadata": {},
   "outputs": [],
   "source": [
    "predictions = nb.predict(test_x)"
   ]
  },
  {
   "cell_type": "code",
   "execution_count": 90,
   "metadata": {},
   "outputs": [
    {
     "name": "stdout",
     "output_type": "stream",
     "text": [
      "accuracy 0.9973262032085561\n",
      "             precision    recall  f1-score   support\n",
      "\n",
      "     Person       1.00      1.00      1.00      1955\n",
      "       City       1.00      1.00      1.00      1846\n",
      "     Animal       0.99      1.00      0.99      1061\n",
      "\n",
      "avg / total       1.00      1.00      1.00      4862\n",
      "\n"
     ]
    }
   ],
   "source": [
    "print('accuracy %s' % accuracy_score(predictions, test_y))\n",
    "print(classification_report(test_y, predictions,target_names=data['label'].unique()))"
   ]
  },
  {
   "cell_type": "code",
   "execution_count": 91,
   "metadata": {},
   "outputs": [
    {
     "name": "stdout",
     "output_type": "stream",
     "text": [
      "[[1056    5    0]\n",
      " [   0 1846    0]\n",
      " [   7    1 1947]]\n"
     ]
    }
   ],
   "source": [
    "print(confusion_matrix(test_y, predictions, labels=data['label'].unique()))"
   ]
  },
  {
   "cell_type": "code",
   "execution_count": 92,
   "metadata": {},
   "outputs": [
    {
     "name": "stdout",
     "output_type": "stream",
     "text": [
      "Prediction: City , True: Person\n",
      "Abstract: par sanda  born june 22  1965  swedish entrepreneur  developer stock trader  his accomplishments include establishing pan capital group  also known pan capital aktiebolag  international stock market trading company redeveloping north beach village  area 1950  midcentury hotels resorts fort lauderdale  florida \n",
      "Prediction: City , True: Person\n",
      "Abstract: marin aleksov founder ceo rosland capital  seller gold precious metals  aleksov founded santa monica  california based company 2008 \n",
      "Prediction: Person , True: Animal\n",
      "Abstract: awesome gem  foaled february 6  2003  thoroughbred racehorse  this son awesome again sold crupi s new castle farm west point thoroughbreds  150000 california 2005 barretts march 2yearold sale  his partnership includes paul blavin  scott cadwallader patrice arundel vista  ca  rob keen encinitas  california  the chestnut gelding recently risen become major stakes contender main track southern california racing circuit  awesome gem tends stand smaller slimmer horse many competitors  as threeyearold  finished second twice winning maiden special weight santa anita s oak tree meet september 29  2006  he went capture allowance october 26  2006  ended year second place turf grade iii 1mile sir beaufort stakes december 26  2006  opening day santa anita s 200607 winter meet  awesome gem first stakes race start 2007 season  january 13  1116mile grade ii san fernando breeders  cup stakes dirt bounding stretch snatch lead favorite midnight lute wire  the chestnut placed 5th 118mile grade ii strub stakes dirt track santa anita february 3  2007  finished last eighthorse field 114mile grade i santa anita handicap march 3  2007  after brief rest  awesome gem dropped class placed 2nd allowance race hollywood park s new synthetic cushion track may 26  2007  he returned winner s circle june 23  2007  allowance optional claiming  also hollywood park  on july 21  2007  awesome gem returned stakes scene place second behind sun boat 1116mile grade ii san diego handicap del mar s new polytrack  on august 19  2007  finished second 114mile pacific classic stakes del mar  in race  awesome gem made furious closing effort stretch almost last narrowly miss overtaking leader  student council  wire  on september 29  awesome gem unsuccessfully dueled tiago stretch 118mile grade i goodwood handicap santa anita s new cushion track 2007 oak tree meet  losing nose placing second  awesome gem ran long shot prestigious grade i 114mile breeders  cup classic monmouth park october 27  2007  on sloppy track  rallied overtook 2007 kentucky derby winner street sense earn third place  the  500000 thirdplace prize effectively doubled gelding s career earnings made west point thoroughbred s first horse reach  1 million earnings  the chestnut took rest 2007 season sent undisclosed farm rest  while break  trainer craig dollase announced plans point awesome gem toward 2008 dubai world cup scheduled march 29  awesome gem made first start 2008 season grade 2 san antonio handicap santa anita  placing third besting pacific classic rival  student council  managed fifth  on march 1  2008  awesome gem placed seventh g1 santa anita handicap  lacking usual powerful drive stretch  on october 3  2009  awesome gem grade 2 hawthorne gold cup handicap age 6  in july 2010  first grade i victory hollywood gold cup favorite rail trip  in may 2011  took lone star park handicap first win year  he got past game on dude onelength victory robby albarado  on august 22  also longacres mile handicap  beating washington s favorite  noosa beach  on may 28  2012  berkeley handicap first line  positive response  disqualified  awesome gem favored race  50th age 9 \n",
      "Prediction: Person , True: Animal\n",
      "Abstract: punjabi  foaled 2003 great britain  british thoroughbred racehorse  born sire  komatie dam  competa  punjabi started racing threeyearold 2005  he first race  class 6  may 2006 newcastle racecourse newcastle  england  punjabi  first notable win came february 2007 kempton park racecourse surrey  england adonis juvenile novices  hurdle  grade 2 national hunt race  however   2008 punjabi started make name  became first horse legitimately contend wbx sponsored triple crown hurdling  the triple crown hurdling awards 1000000 bonus horse wins fighting fifth hurdle newcastle  christmas hurdle kempton park champion hurdle cheltenham gloucestershire  england racing seasonentering 20082009 racing season  involved punjabi believed horse contender win triple crown hurdling  in early december 2008  jockey barry geraghty punjabi narrowly beat sublimity win fighting fifth hurdle  later month  punjabi running well fell two fences finish line christmas hurdle  the race harchibald  in march 2009  punjabi held late charge celestial halo win champion hurdle dramatic photo finish  after win champion hurdle  trainer nicky henderson lamented fact fall christmas hurdle could  expensive fall history   in career  punjabi amassed 12 wins  2 places 4 shows  four 12 wins coming grade 1 races  as may 2009  overall winning percentage stands 40  \n",
      "Prediction: Person , True: Animal\n",
      "Abstract: smuggler  may 20  2002 kentucky  april 16  2015  american champion thoroughbred racing mare  she homebred owned ogden mills phipps trained us  racing hall fame trainer claude  shug  mcgaughey  smuggler short brief career race track proved champion brief time  she record 5 wins 9 lifetime starts  her biggest victories included wins  grade 1  mother goose stakes  grade 1  coaching club american oaks  belmont park  smuggler s mother hall fame champion thoroughbred inside information  sire champion kentucky derby winner unbridled  in 2005  smuggler awarded eclipse award champion three year old filly  she retired racing september 2006  she died april 16  2015 due complications foaling \n",
      "Prediction: Person , True: Animal\n",
      "Abstract: celtic swing  21 february 1992  september 2010  british thoroughbred racehorse  although prix du jockey club 1995 best known performances autumn previous year  wins ascot doncaster led one highestrated twoyearolds modern european racing \n",
      "Prediction: City , True: Person\n",
      "Abstract: magnum st pierre dance producer owned operated ensuite studios san francisco \n",
      "Prediction: Person , True: Animal\n",
      "Abstract: amphilochidae family amphipod crustaceans  containing following genera   afrogitanopsis g karaman  1980  amphilochella schellenberg  1926  amphilochoides sars  1895  amphilochopsis stephensen  1925  amphilochus bate  1862  apolochus hoover  bousfield  2001  cyclotelson potts  1915  gitana boeck  1871  gitanogeiton stebbing  1910  gitanopsilis rauschert  1994  gitanopsis sars  1892  hourstonius hoover  bousfield  2001  paramphilochoides lincoln  1979  paramphilochus ishimaru  ikehara  1986  rostrogitanopsis g karaman  1980\n",
      "Prediction: Person , True: Animal\n",
      "Abstract: jason roach  born july 11  1984 saint john  new brunswick  canadian curler  roach twice  2004 2005  new brunswick men s junior championships playing third team skipped ryan sherrard  the team canadian junior curling championships first attempt 2004  they finished round robin 93 record  three way tie first  the team would go win playoff games  including final manitoba s daley peters  the team represented canada 2004 world junior curling championships  the team finished round robin 54 record  tied korea  however  lost tiebreaker match koreans  at 2005 canadian junior curling championships could repeat title  finishing 57 record  after juniors  roach would go play number different teams  he joined grattan 2012  roach played two seasons world curling tour  his first season 200809 playing second jim sullivan played two events diversified transportation canada cup qualifier challenge casino de charlevoix  his second wct season grattan played 2012 curling masters champéry  roach made first brier appearance grattan rink 2013 molson canadian men s provincial curling championship  qualifying team represent new brunswick 2013 tim hortons brier  his brother  darren roach plays second team also teammate canadian junior championship team \n",
      "Prediction: City , True: Person\n",
      "Abstract: john bernhard leiberg  18531913  swedish botanical explorer  forester  bryologist northwestern united states  leiberg came united states 1868 settled near lake coeur dalene  idaho  he spent first part career explorer plant collector various flora projects mainly idaho  washington  oregon  nevada  later worked united states geological survey  with little formal education  age 17 began publishing plant collections 1884 wife  carrie  settled lake pend oreille  idaho territory  his wife doctor surgeon  he supplied specimens new york botanical garden 1892 spent winter hamilton  montana  he worked field botanist frederic coville  curator us national herbarium 1897 transferred us geological survey assigned examine area 6480 square miles  16800 km2  bitterroot forest reserve later became national forests montana idaho   the reserves expanded president grover cleveland february 22  1897 proclamation   he surveyed bitterroot reserve 1897 1898 wrote 19th 20th annual reports us geological survey describing topography  trees mapping locations area previously relatively undocumented  from 1900 1904 published descriptions several western forest reserves  he spent short time philippines  us protectorate  forest inspector insular forest service  he left government service 1906 briefly settled farm eugene  oregon  he travelled world 1910 died 1913  he contributed authored many publications including contributions flora idaho minnesota many forestry related workssa\n",
      "Prediction: Person , True: Animal\n",
      "Abstract: bomolochidae family parasitic copepods  containing following genera   acanthocolax vervoort  1969  acantholochus cressey  1984  bomolochus nordmann  1832  boylea cressey  1977  ceratocolax vervoort  1965  cresseyus ho  lin  2006  dicrobomolochus vervoort  1969  hamaticolax ho  lin  2006  holobomolochus vervoort  1969  holocolax cressey  1982  naricolax ho  do  kasahara  1983  neobomolochus cressey  1981  nothobomolochus vervoort  1962  orbitacolax shen  1957  pseudoeucanthus brian  1906  pseudorbitacolax pillai  1971  pumiliopes shen  1957  pumiliopsis pillai  1967  unicolax cressey  cressey  1980\n",
      "Prediction: City , True: Animal\n",
      "Abstract: the national jury elections  jurado nacional de elecciones  jne  peru autonomous constitutional organism  headquartered lima  its goal oversee legality electoral processes  guaranteeing respect population s  thus  entity charge proclaiming official electoral results awarding recognitions credentials elected authorities  furthermore  passes resolutions regulate electoral dispositions  moreover  jury reviews appeals resolutions passes first instance special electoral juries last word controversies regarding electoral matters  it also settles cases vacancies declared regional municipal councils  its five members elected different entities state  its president elected supreme court justice remaining four magistrates appointed public ministry elected lawyers lima deans law faculties  one public universities another private ones  the jury handles registry political organizations  active political parties peru registered \n",
      "Prediction: City , True: Person\n",
      "Abstract: rudolph john anderson  18791961  american biochemist \n"
     ]
    }
   ],
   "source": [
    "for idx, row in enumerate(test_x):\n",
    "    if test_y.iloc[idx] != predictions[idx]:\n",
    "        print('Prediction:',predictions[idx],', True:',test_y.iloc[idx])\n",
    "        print('Abstract:',row)"
   ]
  },
  {
   "cell_type": "code",
   "execution_count": null,
   "metadata": {},
   "outputs": [],
   "source": []
  }
 ],
 "metadata": {
  "kernelspec": {
   "display_name": "Python 3",
   "language": "python",
   "name": "python3"
  },
  "language_info": {
   "codemirror_mode": {
    "name": "ipython",
    "version": 3
   },
   "file_extension": ".py",
   "mimetype": "text/x-python",
   "name": "python",
   "nbconvert_exporter": "python",
   "pygments_lexer": "ipython3",
   "version": "3.7.0"
  }
 },
 "nbformat": 4,
 "nbformat_minor": 2
}
