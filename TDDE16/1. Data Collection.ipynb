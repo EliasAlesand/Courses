{
 "cells": [
  {
   "cell_type": "markdown",
   "metadata": {},
   "source": [
    "# Data collection\n",
    "This notebook collects the data that is used in my project. This is done by querying [DBpedia](https://wiki.dbpedia.org/) with SPARQL.\n",
    "\n",
    "(I am new to SPARQL so queries might not be optimal)"
   ]
  },
  {
   "cell_type": "code",
   "execution_count": 1,
   "metadata": {},
   "outputs": [],
   "source": [
    "from SPARQLWrapper import SPARQLWrapper, JSON, XML, N3, RDF\n",
    "import pandas as pd"
   ]
  },
  {
   "cell_type": "markdown",
   "metadata": {},
   "source": [
    "Given a SPARQL query and a label (i.e *Person*, *Animal*, *City* etc.) the function getData will query DBpedia, extract the abstract and label the abstracts with the given label. Returns a pandas dataframe."
   ]
  },
  {
   "cell_type": "code",
   "execution_count": 2,
   "metadata": {},
   "outputs": [],
   "source": [
    "sparql = SPARQLWrapper(\"http://dbpedia.org/sparql\")\n",
    "sparql.setReturnFormat(JSON)\n",
    "prefix = \"\"\"PREFIX owl: <http://www.w3.org/2002/07/owl#>\n",
    "    PREFIX xsd: <http://www.w3.org/2001/XMLSchema#>\n",
    "    PREFIX rdfs: <http://www.w3.org/2000/01/rdf-schema#>\n",
    "    PREFIX rdf: <http://www.w3.org/1999/02/22-rdf-syntax-ns#>\n",
    "    PREFIX foaf: <http://xmlns.com/foaf/0.1/>\n",
    "    PREFIX dc: <http://purl.org/dc/elements/1.1/>\n",
    "    PREFIX : <http://dbpedia.org/resource/>\n",
    "    PREFIX dbpedia2: <http://dbpedia.org/property/>\n",
    "    PREFIX dbpedia: <http://dbpedia.org/>\n",
    "    PREFIX skos: <http://www.w3.org/2004/02/skos/core#>\"\"\"\n",
    "def getData(query, label):\n",
    "    sparql.setQuery(prefix+query)\n",
    "    results = sparql.query().convert()\n",
    "    df = pd.DataFrame.from_dict(results[\"results\"][\"bindings\"])\n",
    "    df['abstract'] = df['abstract'].apply(lambda text: text['value'])\n",
    "    df['label'] = label\n",
    "    return df"
   ]
  },
  {
   "cell_type": "markdown",
   "metadata": {},
   "source": [
    "Building a bunch of queries to compile a dataset consisting of abstracts of different classes."
   ]
  },
  {
   "cell_type": "code",
   "execution_count": 3,
   "metadata": {},
   "outputs": [],
   "source": [
    "persons = getData(\"\"\"SELECT ?abstract WHERE {\n",
    "    ?person dbo:abstract ?abstract .\n",
    "    ?person a dbo:Person .\n",
    "    ?person dbo:birthPlace :Sweden .   \n",
    "    FILTER (lang(?abstract) = 'en')\n",
    "}\n",
    "\"\"\", 'Person')\n",
    "cities = getData(\"\"\"SELECT ?abstract WHERE {\n",
    "    ?city dbo:abstract ?abstract .\n",
    "    ?city a dbo:City .\n",
    "    ?city dbo:country :United_States .\n",
    "    FILTER (lang(?abstract) = 'en')\n",
    "}\n",
    "\"\"\", 'City')\n",
    "animals = getData(\"\"\"SELECT ?abstract WHERE {\n",
    "    ?animal dbo:abstract ?abstract .\n",
    "    ?animal a dbo:Animal .\n",
    "    FILTER (lang(?abstract) = 'en')\n",
    "}\n",
    "\"\"\", 'Animal')"
   ]
  },
  {
   "cell_type": "code",
   "execution_count": 4,
   "metadata": {},
   "outputs": [
    {
     "data": {
      "text/html": [
       "<div>\n",
       "<style scoped>\n",
       "    .dataframe tbody tr th:only-of-type {\n",
       "        vertical-align: middle;\n",
       "    }\n",
       "\n",
       "    .dataframe tbody tr th {\n",
       "        vertical-align: top;\n",
       "    }\n",
       "\n",
       "    .dataframe thead th {\n",
       "        text-align: right;\n",
       "    }\n",
       "</style>\n",
       "<table border=\"1\" class=\"dataframe\">\n",
       "  <thead>\n",
       "    <tr style=\"text-align: right;\">\n",
       "      <th></th>\n",
       "      <th>abstract</th>\n",
       "      <th>label</th>\n",
       "    </tr>\n",
       "  </thead>\n",
       "  <tbody>\n",
       "    <tr>\n",
       "      <th>0</th>\n",
       "      <td>Bojan Pandžić (born 13 March 1982) is a Swedis...</td>\n",
       "      <td>Person</td>\n",
       "    </tr>\n",
       "    <tr>\n",
       "      <th>1</th>\n",
       "      <td>Johan August Strindberg (/ˈstrɪndbɜːrɡ, ˈstrɪn...</td>\n",
       "      <td>Person</td>\n",
       "    </tr>\n",
       "    <tr>\n",
       "      <th>2</th>\n",
       "      <td>Axel Gustafsson Oxenstierna af Södermöre (Swed...</td>\n",
       "      <td>Person</td>\n",
       "    </tr>\n",
       "    <tr>\n",
       "      <th>3</th>\n",
       "      <td>Bo Hansson (10 April 1943 – 23 April 2010) was...</td>\n",
       "      <td>Person</td>\n",
       "    </tr>\n",
       "    <tr>\n",
       "      <th>4</th>\n",
       "      <td>Nils Daniel Carl Bildt (born 15 July 1949) is ...</td>\n",
       "      <td>Person</td>\n",
       "    </tr>\n",
       "  </tbody>\n",
       "</table>\n",
       "</div>"
      ],
      "text/plain": [
       "                                            abstract   label\n",
       "0  Bojan Pandžić (born 13 March 1982) is a Swedis...  Person\n",
       "1  Johan August Strindberg (/ˈstrɪndbɜːrɡ, ˈstrɪn...  Person\n",
       "2  Axel Gustafsson Oxenstierna af Södermöre (Swed...  Person\n",
       "3  Bo Hansson (10 April 1943 – 23 April 2010) was...  Person\n",
       "4  Nils Daniel Carl Bildt (born 15 July 1949) is ...  Person"
      ]
     },
     "execution_count": 4,
     "metadata": {},
     "output_type": "execute_result"
    }
   ],
   "source": [
    "data = persons.append([cities, animals])\n",
    "data.head()"
   ]
  },
  {
   "cell_type": "code",
   "execution_count": 5,
   "metadata": {},
   "outputs": [
    {
     "data": {
      "text/plain": [
       "24307"
      ]
     },
     "execution_count": 5,
     "metadata": {},
     "output_type": "execute_result"
    }
   ],
   "source": [
    "len(data)"
   ]
  },
  {
   "cell_type": "markdown",
   "metadata": {},
   "source": [
    "Save model"
   ]
  },
  {
   "cell_type": "code",
   "execution_count": 6,
   "metadata": {},
   "outputs": [],
   "source": [
    "data.to_pickle('abstracts.pkl')"
   ]
  }
 ],
 "metadata": {
  "kernelspec": {
   "display_name": "Python 3",
   "language": "python",
   "name": "python3"
  },
  "language_info": {
   "codemirror_mode": {
    "name": "ipython",
    "version": 3
   },
   "file_extension": ".py",
   "mimetype": "text/x-python",
   "name": "python",
   "nbconvert_exporter": "python",
   "pygments_lexer": "ipython3",
   "version": "3.6.5"
  }
 },
 "nbformat": 4,
 "nbformat_minor": 2
}
