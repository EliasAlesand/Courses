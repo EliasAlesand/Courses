{
 "cells": [
  {
   "cell_type": "code",
   "execution_count": 50,
   "metadata": {},
   "outputs": [],
   "source": [
    "from SPARQLWrapper import SPARQLWrapper, JSON, XML, N3, RDF"
   ]
  },
  {
   "cell_type": "code",
   "execution_count": 51,
   "metadata": {},
   "outputs": [],
   "source": [
    "sparql = SPARQLWrapper(\"http://dbpedia.org/sparql\")\n",
    "sparql.setReturnFormat(JSON)"
   ]
  },
  {
   "cell_type": "code",
   "execution_count": 58,
   "metadata": {},
   "outputs": [
    {
     "name": "stdout",
     "output_type": "stream",
     "text": [
      "{'type': 'literal', 'xml:lang': 'en', 'value': 'Göran Tunhammar born 22 December 1946 was the Governor of Skåne County from 2006 to 2012. He was appointed to the position by the government on 1 July 2006. He was CEO for the Confederation of Swedish Enterprise between 2001 and 2003.'}\n",
      "{'type': 'literal', 'xml:lang': 'en', 'value': 'Count Lars von Engeström (24 December 1751 – 19 August 1826) was a Swedish statesman and diplomat. He served as the first Prime Minister for Foreign Affairs from 1809 to 1824, and as the Chancellor of Lund University from 1810 to 1824. 1782-87 envoy in Vienna,1788-92 envoy in Warsaw,1793-95 envoy in London,1795 ambassador in Vienna. He was elected a member of the Royal Swedish Academy of Sciences in 1810.'}\n",
      "{'type': 'literal', 'xml:lang': 'en', 'value': 'Johan Olof Ramstedt (7 November 1852 – 15 March 1935), was Prime Minister of Sweden from April to August 1905.'}\n",
      "{'type': 'literal', 'xml:lang': 'en', 'value': 'Anders Erik Borg (born 11 January 1968) is a Swedish economist and politician who served as Minister for Finance in the Swedish Government from 2006 to 2014. He is a member of the Moderate Party.'}\n",
      "{'type': 'literal', 'xml:lang': 'en', 'value': 'Désirée Astrid Marianne Pethrus (born 19 February 1959) is a Swedish Christian Democratic politician. She was a substitute member of the Riksdag for Göran Hägglund from 2006 to 2010 and is now an ordinary member in her own right since 2010. Her grandfather, Lewi Pethrus, was one of the founders of what is today the Christian Democrats.'}\n",
      "{'type': 'literal', 'xml:lang': 'en', 'value': 'Oscar Robert Themptander (14 February 1844 – 30 January 1897) was a Swedish politician and public official who was Prime Minister of Sweden from 1884 to 1888 during the reign of King Oscar II, and Governor of Stockholm County from 1888 to 1896. He was also Minister for Finance. At the age of 40 years and 92 days, Themptander is the youngest person to become Prime Minister in Swedish history. His death at the age of 52 years and 351 days makes him also the youngest prime minister at his death.'}\n",
      "{'type': 'literal', 'xml:lang': 'en', 'value': \"Charles August Lindbergh (born Carl Månsson; January 20, 1859 – May 24, 1924) was a United States Congressman from Minnesota's 6th congressional district from 1907 to 1917. He opposed American entry into World War I as well as the 1913 Federal Reserve Act. Lindbergh is best known as the father of famous aviator Charles Lindbergh.\"}\n",
      "{'type': 'literal', 'xml:lang': 'en', 'value': 'Lars Svante Albert Lindqvist (born 26 April 1948) is a Swedish historian who has been the Marshal of the Realm of Sweden and chief of the Royal Court of Sweden since 1 January 2010.'}\n",
      "{'type': 'literal', 'xml:lang': 'en', 'value': 'Gustaf Cronhielm (18 July 1664, Stockholm – 3 June 1737) was a Swedish nobleman and politician. He was Governor of Västmanland County 1698–1710.'}\n",
      "{'type': 'literal', 'xml:lang': 'en', 'value': 'Erik Anders Almqvist (born 24 May 1982) is a Swedish former politician. A former member of the Sweden Democrats, he was member of the Swedish Riksdag from 2010 until his resignation on 21 February 2013.'}\n",
      "{'type': 'literal', 'xml:lang': 'en', 'value': 'Filippa Désirée Amanda Cay Reinfeldt (born Holmberg 14 June 1967 in Stockholm) is a Swedish health care consult and former politician of the Moderate Party. She served as Health Service Commissioner of Stockholm County from 2006 to 2014, with responsible for health care, social affairs and hospitals in Stockholm County. She was previously Mayor of Täby Municipality from 2005 to 2006. She was married to former Prime Minister Fredrik Reinfeldt from 1992 until their divorcement in 2013. They have three children together.'}\n",
      "{'type': 'literal', 'xml:lang': 'en', 'value': 'Lena Elisabeth Adelsohn Liljeroth (born 24 November 1955) is a Swedish politician who served as Minister for Culture and Sports from 2006 to 2014. A member of the Moderate Party, she was an MP of the Swedish Riksdag from 2002 to 2014.'}\n",
      "{'type': 'literal', 'xml:lang': 'en', 'value': \"Per Axel Ahlmark (born 15 January 1939) is a Swedish writer and former politician. He was the leader of the Liberal People's Party from 1975 to 1978, and Minister for Employment and Deputy Prime Minister in the Swedish government from 1976 to 1978. He also served as a member of the Swedish parliament from 1967 to 1978.\"}\n",
      "{'type': 'literal', 'xml:lang': 'en', 'value': 'Anton Amadé Abele (born January 10, 1992) is a Swedish activist, debater and politician who was Member of Parliament for Stockholm County, replacing former Minister for Culture and Sports Lena Adelsohn Liljeroth, from the 2010 general election until the 2014 general election. At the age of 18, he is the youngest person ever to become a Member of Parliament in Sweden. He entered the political scene as an anti-violence activist following the death of 16-year-old Riccardo Campogiani, who was beaten to death in October 2007. On July 25, 2013 Abele announced that he will finish his term in the Swedish Parliament, then end his political career and not run for re-election in the 2014 general election, citing disillusionment with the working climate in the Parliament.'}\n",
      "{'type': 'literal', 'xml:lang': 'en', 'value': 'John Martin Linton (born 11 August 1944) is a British Labour Party politician, who was the Member of Parliament for Battersea from 1997 to 2010.'}\n",
      "{'type': 'literal', 'xml:lang': 'en', 'value': 'Carl Johan Henrik Forssell (born 8 December 1979) is a Swedish Moderate Party politician who is a Member of the Swedish Parliament for Stockholm Municipality since 2010. He previously served as Chief of Staff to Prime Minister Fredrik Reinfeldt from 2006 to 2007, and who prior to that served as chairman of the Moderate Youth League from 2004 to 2006.'}\n",
      "{'type': 'literal', 'xml:lang': 'en', 'value': \"(23 November 1860 – 24 February 1925) was a Swedish politician. He was the leader of the Swedish Social Democratic Party (1907–1925), and Prime Minister during three separate periods (1920, 1921–1923, and 1924–1925). When Branting came to power in 1920, he was the first Social Democratic Prime Minister of Sweden. When he took office for a second term after the general election of 1921, he became the first socialist politician in Europe to do so following elections with universal suffrage. In 1921, Sweden's Prime Minister Hjalmar Branting shared the Peace Prize with the Norwegian secretary-general of the Inter-Parliamentary Union, Christian Lange.\"}\n",
      "{'type': 'literal', 'xml:lang': 'en', 'value': 'Ernst Trygger (27 October 1857 – 23 September 1943) was a Swedish jurist professor and conservative politician. He served as Prime Minister of Sweden from 1923 to 1924. He also served as Minister for Foreign Affairs from 1928 to 1930 in the government of Arvid Lindman. He was a member of the first chamber of the Swedish Riksdag from 1898 to 1937, and also leader of the conservatives in that chamber from 1913 to 1933.'}\n",
      "{'type': 'literal', 'xml:lang': 'en', 'value': 'Baron Johan Gustaf Nils Samuel Åkerhielm af Margaretelund (24 July 1833 – 2 April 1900) was a politician, a baron, a landowner, member of the Riksdag from 1859 to 1866 and from 1870 to 1900, a Minister of Finance from 1874 to 1875, a Minister for Foreign Affairs in 1889, and a Prime Minister from 1889 to 1891. He was married to Ulrika Gyldenstolpe in 1860, with whom he had three children.'}\n",
      "{'type': 'literal', 'xml:lang': 'en', 'value': 'Anna Lisbet Christina Palme, née Beck-Friis (born 14 March 1931) is a Swedish former chairperson of UNICEF, educated as a child psychologist. She is the widow of late Swedish Prime Minister Olof Palme. They married on 9 June 1956.'}\n",
      "{'type': 'literal', 'xml:lang': 'en', 'value': 'Per Anders Otto Bill (born 13 February 1958) is a Swedish politician of the Moderate Party who has been Governor of Gävleborg County since 1 August 2015. He was a member of the Riksdag from 1994 to 2015. Eisenhower Fellowships selected Per Bill in 1999 to represent Sweden. He is brother-in-law of Karin Enström, the former Minister for Defence.'}\n",
      "{'type': 'literal', 'xml:lang': 'en', 'value': \"Cecilia Schelin Seidegård (born 18 May 1954, in Stockholm as Irene Cecilia Schelin), is a Swedish biochemist and since 1 January 2010, Governor of Gotland County. Seidegård grew up in Visby. In her youth she was active in the Free Students, a political party of a student's union. For 1981–82, she was vice-chairman of the Swedish National Union of Students. She obtained a Ph.D. in biochemistry, and then worked in the pharmaceutical industry, particularly in the Astra Group, where she was director of research at AstraZeneca. In 2003–2004, she was CEO of Huddinge University Hospital AB, and in 2004–2007 she was Director of the merged Karolinska University Hospital. Since 2004 she has been Chairman of the Board of the Royal Institute of Technology. Since 2008, she has also been chairman of the Systembolaget. She was elected in 2007 as a member of the Royal Swedish Academy of Engineering Sciences.\"}\n",
      "{'type': 'literal', 'xml:lang': 'en', 'value': 'Knut Agathon Wallenberg, (19 May 1853 - 1 June 1938), was a Swedish banker and politician, he was also Knight of the Order of the Seraphim. He was son of the banker and politician André Oscar Wallenberg, and his wife Catharina Wilhelmina Andersson. In 1878, he married Alice Nickelsen. He was a member of the prominent Wallenberg family. Knut Agathon Wallenberg was Minister for Foreign Affairs 1914-1917, and member of the Riksdags first chamber (the Upper house) 1907-1919. Together with his wife, he created Knut och Alice Wallenbergs Foundation (Swedish: Knut och Alice Wallenbergs Stiftelse), which is one of the main contributors to the private university the Stockholm School of Economics. Knut Agathon Wallenberg is a founder of the Stockholm School of Economics and is also seen as the founder of the community of Saltsjöbaden and an associated railroad.'}\n",
      "{'type': 'literal', 'xml:lang': 'en', 'value': 'Mikael Ingemarsson Odenberg (born 14 December 1953 in Stockholm) is a Swedish politician of the Moderate Party. He was a Member of Parliament from 1991 to 2006 and Minister for Defence in the Swedish government from 2006 to 2007. Since 1 March 2008 he is chairman of Svenska Kraftnät.'}\n",
      "{'type': 'literal', 'xml:lang': 'en', 'value': 'Anitra Linnéa Steen (born Anitra Linnéa Bergström on 13 May 1949) is a Swedish politician, civil servant and the wife of former Prime Minister Göran Persson. Between 1999 and May 2009, when she retired, she was the manager of Systembolaget, the Swedish state alcoholic beverage retailing monopoly. In that role she was forced to cope with a full blown corruption scandal, involving bribery of shop managers and senior staff by some major suppliers, including Vin & Sprit, formerly the producing and importing division of the Swedish state monopoly. Vin & Sprit is now owned by Pernod Ricard.'}\n",
      "{'type': 'literal', 'xml:lang': 'en', 'value': \"Karl Albert Staaff (21 January 1860 – 4 October 1915) was a Swedish liberal politician and lawyer. He was chairman of the Liberal Coalition Party (1907–1915) and served twice as Prime Minister of Sweden (1905–1906 and 1911–1914). Staaff was active in the Swedish movement for universal suffrage, and as the Liberal party's Prime Minister he presided in 1905 over an attempt to introduce universal and equal suffrage for men. His successor as party leader, Nils Edén, eventually managed to carry this further into universal suffrage in 1918–19, including for women. Due to conservative intervention, Staaff's proposal for first past the post was ultimately scrapped for a proportional system. In 1912, the period of leave that women were allowed following a child’s birth was extended to 6 weeks, and in 1913 a tax-financed pension scheme was introduced. Staaff ran into sharp conflict with the conservative Swedish establishment, and became a hated figure in the Conservative, pro-Monarchic and anti-Democratic establishment. An intense smear campaign was launched against him, picturing him as the destroyer of Swedish tradition and society: wealthy Stockholmers could even buy ash-trays shaped as his head. His staunch anti-military politics created the greatest fundraising in the Swedish history until that time, the 12 M kronor coastal battleship HMS Sverige where the funds where raised in a few months in 1912. Staaff had to bite the lemon, and the ship was ordered. In 1914 Staaff stepped down from government in protest, after Conservatives had summoned a farmers' demonstration at the Royal castle's court in Stockholm, where King Gustaf V – who according to the law was supposed to stay out of politics – denounced Staaff's defence policies. The contemporary Swedish Liberal party The Liberals counts him as the first among the more prominent leaders of Swedish 20th century liberalism, followed by such parliamentarians as Nils Edén, Carl Ekman, Nobel Prize laureate Bertil Ohlin, Gunnar Helén, Per Ahlmark and Bengt Westerberg.\"}\n",
      "{'type': 'literal', 'xml:lang': 'en', 'value': 'Åsa Elisabeth Romson (born 22 March 1972) is a Swedish politician who was the Minister for the Environment and ceremonial Deputy Prime Minister of Sweden in the Swedish Government from 2014 to 2016. She is a member of the Green Party and served as of its spokespersons along with Gustav Fridolin between 2011 and 2016.'}\n",
      "{'type': 'literal', 'xml:lang': 'en', 'value': \"Carin Jämtin (born 3 August 1964 in Stockholm) is a Swedish politician who served as party secretary of the Social Democrats from March 2011 until her resignation in August 2016. She was Minister for International Development Cooperation in the Swedish Government between 2003 and 2006. She has been Member of the Riksdag since 2014, representing Stockholm Municipality. On 16 August 2016, Jämtin announced her intention to resign as party secretary in order to fulfill her position as Member of the Riksdag. She will officially resign on 27 August 2016, pending her successor's election by the party committee.\"}\n",
      "{'type': 'literal', 'xml:lang': 'en', 'value': 'Hanna Sofia Margareta Arkelsten (born 6 December 1976 in Stockholm) is a Swedish politician of the Moderate Party. She has been a member of the Swedish Riksdag since 2006, representing her home constituency of Stockholm Municipality. Arkelsten served as Secretary of the Moderate Party from 2010 to 2012 and Chairman of the Committee on Foreign Affairs from 2012 to 2014.'}\n"
     ]
    }
   ],
   "source": [
    "sparql.setQuery(\"\"\"\n",
    "    PREFIX owl: <http://www.w3.org/2002/07/owl#>\n",
    "    PREFIX xsd: <http://www.w3.org/2001/XMLSchema#>\n",
    "    PREFIX rdfs: <http://www.w3.org/2000/01/rdf-schema#>\n",
    "    PREFIX rdf: <http://www.w3.org/1999/02/22-rdf-syntax-ns#>\n",
    "    PREFIX foaf: <http://xmlns.com/foaf/0.1/>\n",
    "    PREFIX dc: <http://purl.org/dc/elements/1.1/>\n",
    "    PREFIX : <http://dbpedia.org/resource/>\n",
    "    PREFIX dbpedia2: <http://dbpedia.org/property/>\n",
    "    PREFIX dbpedia: <http://dbpedia.org/>\n",
    "    PREFIX skos: <http://www.w3.org/2004/02/skos/core#>\n",
    "\n",
    "    SELECT ?abstract WHERE {\n",
    "      ?person a dbo:Politician .\n",
    "      ?person dbo:birthPlace :Stockholm .   \n",
    "      ?person dbo:abstract ?abstract.\n",
    "      FILTER (lang(?abstract) = 'en')\n",
    "} ORDER BY ?name\n",
    "\"\"\")\n",
    "\n",
    "results = sparql.query().convert()\n",
    "for result in results[\"results\"][\"bindings\"]:\n",
    "    print(result[\"abstract\"])"
   ]
  },
  {
   "cell_type": "code",
   "execution_count": null,
   "metadata": {},
   "outputs": [],
   "source": []
  }
 ],
 "metadata": {
  "kernelspec": {
   "display_name": "Python 3",
   "language": "python",
   "name": "python3"
  },
  "language_info": {
   "codemirror_mode": {
    "name": "ipython",
    "version": 3
   },
   "file_extension": ".py",
   "mimetype": "text/x-python",
   "name": "python",
   "nbconvert_exporter": "python",
   "pygments_lexer": "ipython3",
   "version": "3.7.0"
  }
 },
 "nbformat": 4,
 "nbformat_minor": 2
}
