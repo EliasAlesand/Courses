{
 "cells": [
  {
   "cell_type": "markdown",
   "metadata": {},
   "source": [
    "# Model Creation - SVM\n",
    "This notebook creates the model that classify the abstracts"
   ]
  },
  {
   "cell_type": "code",
   "execution_count": 1,
   "metadata": {},
   "outputs": [],
   "source": [
    "import pandas as pd\n",
    "import numpy as np\n",
    "import matplotlib.pyplot as plt\n",
    "from sklearn.feature_extraction.text import TfidfVectorizer, TfidfTransformer, CountVectorizer\n",
    "from sklearn.model_selection import train_test_split\n",
    "from sklearn.linear_model import SGDClassifier\n",
    "from sklearn.pipeline import Pipeline\n",
    "from sklearn.metrics import classification_report,accuracy_score,confusion_matrix,precision_score,recall_score,f1_score"
   ]
  },
  {
   "cell_type": "markdown",
   "metadata": {},
   "source": [
    "Import data"
   ]
  },
  {
   "cell_type": "code",
   "execution_count": 2,
   "metadata": {},
   "outputs": [
    {
     "data": {
      "text/plain": [
       "'bojan pandžić  born 13 march 1982  swedish football referee  pandžić currently resides hisings backa  part gothenburg  he full international referee fifa since 2014  he became professional referee 2004 allsvenskan referee since 2009  pandzic refereed 42 matches allsvenskan  65 matches superettan 8 international matches 2014 '"
      ]
     },
     "execution_count": 2,
     "metadata": {},
     "output_type": "execute_result"
    }
   ],
   "source": [
    "data = pd.read_pickle('preprocessed_abstracts.pkl')\n",
    "data.iloc[0]['abstract']\n"
   ]
  },
  {
   "cell_type": "markdown",
   "metadata": {},
   "source": [
    "Divide into training and test data. 80% train 20% test."
   ]
  },
  {
   "cell_type": "code",
   "execution_count": 3,
   "metadata": {},
   "outputs": [],
   "source": [
    "x = data['abstract']\n",
    "y = data['label']\n",
    "classes = y.unique()\n",
    "classes.sort()\n",
    "train_x, test_x, train_y, test_y = train_test_split(x,y,test_size=0.2, random_state=1)"
   ]
  },
  {
   "cell_type": "code",
   "execution_count": 5,
   "metadata": {},
   "outputs": [],
   "source": [
    "nb = Pipeline([('vect', CountVectorizer()),\n",
    "               ('tfidf', TfidfTransformer()),\n",
    "               ('clf', SGDClassifier(loss='hinge', penalty='l2',alpha=1e-3, random_state=42, max_iter=5, tol=None),),\n",
    "              ])"
   ]
  },
  {
   "cell_type": "code",
   "execution_count": 6,
   "metadata": {},
   "outputs": [
    {
     "data": {
      "text/plain": [
       "Pipeline(memory=None,\n",
       "     steps=[('vect', CountVectorizer(analyzer='word', binary=False, decode_error='strict',\n",
       "        dtype=<class 'numpy.int64'>, encoding='utf-8', input='content',\n",
       "        lowercase=True, max_df=1.0, max_features=None, min_df=1,\n",
       "        ngram_range=(1, 1), preprocessor=None, stop_words=None,\n",
       "        strip...ty='l2', power_t=0.5, random_state=42, shuffle=True,\n",
       "       tol=None, verbose=0, warm_start=False))])"
      ]
     },
     "execution_count": 6,
     "metadata": {},
     "output_type": "execute_result"
    }
   ],
   "source": [
    "nb.fit(train_x, train_y)"
   ]
  },
  {
   "cell_type": "code",
   "execution_count": 7,
   "metadata": {},
   "outputs": [],
   "source": [
    "predictions = nb.predict(test_x)"
   ]
  },
  {
   "cell_type": "code",
   "execution_count": 8,
   "metadata": {},
   "outputs": [
    {
     "name": "stdout",
     "output_type": "stream",
     "text": [
      "accuracy 0.991045991045991\n",
      "             precision    recall  f1-score   support\n",
      "\n",
      "     Animal       0.98      1.00      0.99      1976\n",
      "       City       1.00      1.00      1.00      1834\n",
      "    Country       1.00      0.34      0.51        56\n",
      "     Person       1.00      1.00      1.00      1048\n",
      "\n",
      "avg / total       0.99      0.99      0.99      4914\n",
      "\n"
     ]
    }
   ],
   "source": [
    "print('accuracy %s' % accuracy_score(predictions, test_y))\n",
    "print(classification_report(test_y, predictions))\n"
   ]
  },
  {
   "cell_type": "code",
   "execution_count": 9,
   "metadata": {},
   "outputs": [
    {
     "name": "stdout",
     "output_type": "stream",
     "text": [
      "[[1975    0    0    1]\n",
      " [   0 1832    0    2]\n",
      " [  28    7   19    2]\n",
      " [   4    0    0 1044]]\n"
     ]
    }
   ],
   "source": [
    "print(confusion_matrix(test_y, predictions))"
   ]
  },
  {
   "cell_type": "markdown",
   "metadata": {},
   "source": [
    "Show faulty predictions"
   ]
  },
  {
   "cell_type": "code",
   "execution_count": 10,
   "metadata": {},
   "outputs": [
    {
     "name": "stdout",
     "output_type": "stream",
     "text": [
      "Prediction: Animal , True: Country\n",
      "Abstract: the federation bosnia herzegovina  bosnian  croatian serbian  federacija bosne hercegovine  cyrillic script  федерација босне и херцеговине  pronounced  federǎːtsija bôsneː xěrtsegoʋineː   one two political entities compose bosnia herzegovina  republika srpska  the federation bosnia herzegovina consists 10 autonomous cantons governments  it inhabited primarily bosniaks bosnian croats  sometimes informally referred bosniakcroat federation  bosnian serbs third constituency entity   it sometimes known shorter name federation b  h  federacija bih   the federation created 1994 washington agreement  ended part conflict whereby bosnian croats fought bosniaks  it established constituent assembly continued work october 1996  the federation capital  government  president  parliament  customs police departments  two postal systems airline  bh airlines   it army  army federation bosnia herzegovina  merged army republika srpska form armed forces bosnia herzegovina  the capital largest city metropolis sarajevo 438443 inhabitants total population 688354 metropolitan area \n",
      "Prediction: City , True: Country\n",
      "Abstract: anguilla  æŋˈɡwɪlə anggwilə  british overseas territory caribbean  it one northerly leeward islands lesser antilles  lying east puerto rico virgin islands directly north saint martin  the territory consists main island anguilla  approximately 16 miles  26 km  long 3 miles  5 km  wide widest point  together number much smaller islands cays permanent population  the island s capital the valley  the total land area territory 35 square miles  90 km2   population approximately 13500  2006 estimate   anguilla become popular tax  capital gains  estate  profit forms direct taxation either individuals corporations  in april 2011  faced mounting deficit  introduced 3   interim stabilisation levy   anguilla s first form income tax \n",
      "Prediction: Animal , True: Country\n",
      "Abstract: grenada  ɡrᵻˈneɪdə  french  la grenade  island country consisting grenada six smaller islands southern end grenadines southeastern caribbean sea  grenada located northwest trinidad tobago  northeast venezuela  southwest saint vincent grenadines  grenada also known  island spice  production nutmeg mace crops  one world s largest exporters  its size 344 square kilometres  133 sq mi   estimated population 110000  its capital st george s  the national bird grenada critically endangered grenada dove \n",
      "Prediction: Animal , True: Country\n",
      "Abstract: bahrain  bɑːˈreɪn  arabic  البحرين   officially kingdom bahrain  arabic  مملكة البحرين  small arab monarchy persian gulf  bahrain consists group islands qatar peninsula north eastern coast saudi arabia  it island country situated near western shores persian gulf middle east  it small archipelago centered bahrain island  largest land mass  it 23 km  14 mi  east saudi arabia  connected king fahd causeway  the peninsula qatar also nearby  50 km  31 mi  southeast across gulf bahrain  iran lies 200 km  124 mi  north across persian gulf  the population 2010 stood 1234571  including 666172 nonnationals  it 780 km2 size  making third smallest nation asia maldives singapore  bahrain site ancient dilmun civilisation  it famed since antiquity pearl fisheries  considered best world 19th century  bahrain one earliest areas convert islam  ad 628   following period arab rule  bahrain occupied portuguese 1521  turn expelled 1602 shah abbas i safavid dynasty persian empire  in 1783  bani utbah clan captured bahrain nasr almadhkur since ruled al khalifa royal family  ahmed al fateh bahrain s first hakim  in late 1800s  following successive treaties british  bahrain became protectorate united kingdom  in 1971  bahrain declared independence  formerly state  bahrain declared kingdom 2002  in 2011  country experienced protests inspired regional arab spring  bahrain first postoil economy persian gulf  since late 20th century  bahrain invested banking tourism sectors  many large financial institutions presence manama  country s capital  bahrain high human development index recognised world bank high income economy \n",
      "Prediction: Animal , True: Country\n",
      "Abstract: hong kong  chinese  香港  literally   fragrant harbour   incense harbour    officially hong kong special administrative region people s republic china  autonomous territory pearl river delta east asia  the mainland chinese province guangdong borders territory north  with total land area 1106 square kilometres  427 sq mi  population 73 million various nationalities  ranks world s fourth densely populated sovereign state territory  after first opium war  183942   hong kong became british colony perpetual cession hong kong island  followed kowloon peninsula 1860 99year lease new territories 1898  hong kong later occupied japan second world war british control resumed 1945  in early 1980s  negotiations united kingdom china resulted 1984 sinobritish joint declaration  paved way transfer sovereignty hong kong 1997  became special administrative region  sar  high degree autonomy  under principle  one country  two systems   hong kong maintains separate political economic system china  except military defence foreign affairs  hong kong maintains independent executive  legislative judiciary powers  in addition  hong kong develops relations directly foreign states international organisations broad range  appropriate fields   hong kong one world s significant financial centres  highest financial development index score consistently ranks world s competitive laissezfaire economic entity world competitiveness yearbook  its legal tender  hong kong dollar  world s 13th traded currency  hong kong s tertiary sector dominated economy characterised simple taxation competitive level corporate tax supported international confidence independent judiciary system rule law  rule law  applies legal  contractual proceedings  however  hong kong one highest per capita incomes world  suffers severe income inequality among developed economies  hong kong renowned deep natural harbour  enables ready access international cargo ships  skyline  high density skyscrapers  territory boasts second largest number high rises city world  it high human development index ranking world s longest life expectancy  over 90  population makes use welldeveloped public transportation  seasonal air pollution origins neighbouring industrial areas mainland china  adopts loose emissions standards  resulted high level atmospheric particulates \n",
      "Prediction: Animal , True: Country\n",
      "Abstract: the bureau ghana languages agency government ghana focuses ghanaian languages  including publication materials  it founded 1951  originally vernacular literature bureau  later given current name  it two offices  one accra tamale  it focuses 11 languages  akuapem twi  asante twi  ewe  mfantse  ga  dangme  nzema  dagbani  dagaare  gonja kasem \n",
      "Prediction: Animal , True: Country\n",
      "Abstract: aruba  əˈruːbə əroobə  dutch   aːˈrubaː   constituent country kingdom netherlands southern caribbean sea  located 1600 kilometres  990 mi  west main part lesser antilles 29 kilometres  18 mi  north coast venezuela  it measures 32 kilometres  20 mi  long northwestern southeastern end 10 kilometres  6 mi  across widest point  together bonaire curaçao  aruba forms group referred abc islands  collectively  aruba dutch islands caribbean often called dutch caribbean  aruba one four countries form kingdom netherlands  along netherlands  curaçao sint maarten  the citizens countries share single nationality  dutch  aruba administrative subdivisions   census purposes  divided eight regions  its capital oranjestad  unlike much caribbean region  aruba dry climate arid  cactusstrewn landscape  this climate helped tourism visitors island reliably expect warm  sunny weather  it land area 179 km2  691 sq mi  densely populated  total 102484 inhabitants 2010 census  it lies outside hurricane alley \n",
      "Prediction: Animal , True: Country\n",
      "Abstract: the south asian association regional cooperation  saarc  regional intergovernmental organization geopolitical union nations south asia  its member states include afghanistan  bangladesh  bhutan  india  nepal  maldives  pakistan sri lanka  saarc comprises 3  world s area  21  world s population 912  global economy  2015  saarc founded dhaka 1985  its secretariat based kathmandu  the organization promotes development economic regional integration  it launched south asian free trade area 2006  saarc maintains permanent diplomatic relations united nations observer developed links multilateral entities  including european union \n",
      "Prediction: Animal , True: Country\n",
      "Abstract: dominica  ˌdɒmɪˈniːkə domineekə  french  dominique  island carib  wai  tu kubuli   officially commonwealth dominica  sovereign island country  the capital  roseau  located leeward side island  it part windward islands lesser antilles archipelago caribbean sea  the island lies southsoutheast guadeloupe northwest martinique  its area 750 square kilometres  290 sq mi  highest point morne diablotins  1447 metres  4747 ft  elevation  the population 72301 2014 census  the island originally inhabited kalinago later colonised europeans  predominately french 1690s  arrived long columbus passed island sunday  3 november 1493   sunday    dominica  latin   great britain took 1763 seven years  war gradually established english official language  the island republic gained independence 1978  its name pronounced emphasis third syllable  related french name dominique  dominica nicknamed  nature isle caribbean  unspoiled natural beauty  it youngest island lesser antilles  still formed geothermalvolcanic activity  evidenced world s secondlargest hot spring  boiling lake  the island lush mountainous rainforests  home many rare plants  animals  bird species  there xeric areas western coastal regions  heavy rainfall occurs inland  the sisserou parrot  also known imperial amazon found dominica  island s national bird featured national flag  dominica s economy depends tourism agriculture \n",
      "Prediction: Animal , True: Country\n",
      "Abstract: trinidad tobago  ˈtrɪnᵻˌdæd ən təˈbeɪɡoʊ  toʊˈ   officially republic trinidad tobago  twin island country situated northern edge south american mainland  lying 11 kilometres  68 miles  coast northeastern venezuela 130 kilometres  81 miles  south grenada  bordering caribbean north  shares maritime boundaries nations including barbados northeast  grenada northwest  guyana southeast  venezuela south west  the island trinidad spanish colony arrival christopher columbus 1498 capitulation spanish governor  don josé maría chacón  arrival british fleet 18 warships 18 february 1797  during period  island tobago changed hands among spanish  british  french  dutch courlander colonizers  times island caribbean  trinidad tobago  remaining separate 1889  ceded britain 1802 treaty amiens  the country trinidad tobago obtained independence 1962  becoming republic 1976  trinidad tobago third richest country gdp  ppp  per capita americas united states canada  furthermore  recognised highincome economy world bank  unlike englishspeaking caribbean  country s economy primarily industrial  emphasis petroleum petrochemicals  the country s wealth attributed large reserves exploitation oil natural gas  trinidad tobago known carnival birthplace steelpan  limbo  music styles calypso  soca  parang  chutney  chutney soca  chutkaipang  cariso  extempo  kaiso  parang soca  pichakaree  rapso \n",
      "Prediction: Person , True: City\n",
      "Abstract: index magazine prominent new york city based publication indepth interviews prominent figures art culture  it created peter halley bob nickas 1996  running late 2005  covering burgeoning indie culture 1990s  index regularly employed rising photographers juergen teller  terry richardson  wolfgang tillmans  ryan mcginley  featured interviews figures including björk  brian eno  marc jacobs  scarlett johansson  mixing new talents established names music  film  architecture  fashion  art  politics  in addition famous personalities  publication also featured mix interviews sofamous new york personalities queen itchie ducky doolittle  in 2014 launched index a z  art  design  fashion  film  music indie era  the book bible indie culture published rizzoli  index a z celebrates uncompromising personalities  humor  diy brilliance indie generation captures spirit era  index a z showcases relevant cultural figures time young often unknown  since become cultural icons celebrities  including bjork  scarlett johansson  alexander mcqueen  ryan mcginley  wayne koestenbaum  aphex twin  jacqueline bosnjak  brian eno  christine vachon  maurizio cattelan  guinevere turner  ruth ansel tom sachs name  new interviews founders peter halley bob nickas  historical overview wendy vogel offer looks behind scenes cult index magazine  the magazine also produced online series delusional downtown divas  starring isabel halley lena dunham \n",
      "Prediction: Animal , True: Person\n",
      "Abstract: marin aleksov founder ceo rosland capital  seller gold precious metals  aleksov founded santa monica  california based company 2008 \n",
      "Prediction: Person , True: City\n",
      "Abstract: edwin m price  18 october  1884  11 january  1957  kansas city  missouri architect partner henry f hoit alfred e barnes notable firm hoit  price barnes \n",
      "Prediction: Animal , True: Country\n",
      "Abstract: qatar  ˈkæˌtɑːr  ˈkɑːtɑːr  ˈkɑːtər kəˈtɑːr  arabic  قطر qaṭar  ˈqɑtˤɑr   local vernacular pronunciation   ɡɪtˤɑr    officially state qatar  arabic  دولة قطر dawlat qaṭar   sovereign country located western asia  occupying small qatar peninsula northeastern coast arabian peninsula  its sole land border saudi arabia south  rest territory surrounded persian gulf  a strait persian gulf separates qatar nearby island country bahrain  well sharing maritime borders united arab emirates iran  following ottoman rule  qatar became british protectorate early 20th century gaining independence 1971  qatar ruled house thani since early 19th century  sheikh jassim bin mohammed al thani founder state qatar  qatar hereditary monarchy head state emir sheikh tamim bin hamad al thani  whether regarded constitutional absolute monarchy matter opinion  in 2003  constitution overwhelmingly approved referendum  almost 98  favour  in 2013  qatar s total population 18 million  278000 qatari citizens 15 million expatriates  qatar high income economy developed country  backed world s third largest natural gas reserves oil reserves  the country highest per capita income world  qatar classified un country high human development advanced arab state human development  qatar significant power arab world  supporting several rebel groups arab spring financially globally expanding media group  al jazeera media network  for size  qatar wields disproportionate influence world  identified middle power  qatar host 2022 fifa world cup  becoming first arab country \n",
      "Prediction: Animal , True: Country\n",
      "Abstract: the pacific union proposed development pacific islands forum  suggested 2003 committee australian senate  political economic intergovernmental community  the union  formed  common charter  institutions currency  although former prime minister australia john howard spoke pacific union whilst office  government s emphasis focused bilateral relations agreements individual states forum \n",
      "Prediction: Animal , True: Person\n",
      "Abstract: axel petersson döderhultarn  formerly axel petersson  woodcarver   december 12  1868  march 15  1925  one recognized masters wood carving  famous scandinavian flatplane style woodcarving \n",
      "Prediction: Animal , True: Country\n",
      "Abstract: egypt  ˈiːdʒɪpt eejipt  arabic  مصر miṣr  egyptian arabic  مصر maṣr  coptic  ⲭⲏⲙⲓ khemi   officially arab republic egypt  transcontinental country spanning northeast corner africa southwest corner asia land bridge formed sinai peninsula  egypt mediterranean country bordered gaza strip israel northeast  gulf aqaba east  red sea east south  sudan south  libya west  across gulf aqaba lies jordan  across sinai peninsula lies saudi arabia  although jordan saudi arabia share land border egypt  it world s contiguous eurafrasian nation  egypt among longest histories modern country  emerging one world s first nation states tenth millennium bc  considered cradle civilisation  ancient egypt experienced earliest developments writing  agriculture  urbanisation  organised religion central government  iconic monuments giza necropolis great sphinx  well ruins memphis  thebes  karnak  valley kings  reflect legacy remain significant focus archaeological study popular interest worldwide  egypt s rich cultural heritage integral part national identity  endured  times assimilated  various foreign influences  including greek  persian  roman  arab  ottoman  european  one earliest centers christianity  egypt islamised seventh century remains predominantly muslim country  albeit significant christian minority  with 90 million inhabitants  egypt populous country north africa arab world  thirdmost populous africa  nigeria ethiopia   fifteenthmost populous world  the great majority people live near banks nile river  area 40000 square kilometres  15000 sq mi   arable land found  the large regions sahara desert  constitute egypt s territory  sparsely inhabited  about half egypt s residents live urban areas  spread across densely populated centres greater cairo  alexandria major cities nile delta  modern egypt considered regional middle power  significant cultural  political  military influence north africa  middle east muslim world  egypt s economy one largest diversified middle east  projected become one largest 21st century  egypt member united nations  nonaligned movement  arab league  african union  organisation islamic cooperation \n",
      "Prediction: Animal , True: Person\n",
      "Abstract: magnum st pierre dance producer owned operated ensuite studios san francisco \n",
      "Prediction: City , True: Country\n",
      "Abstract:   united states america    america    us    us    usa    usa  redirect  for landmass encompassing north south america  see americas  for uses  see america  disambiguation   us  disambiguation   usa  disambiguation   united states  disambiguation    the united states america  usa   commonly referred united states  us  america  country composed 50 states  federal district  five major selfgoverning territories  various possessionsthe 48 contiguous states federal district central north america canada mexico  state alaska northwestern part north america state hawaii comprising archipelago midpacific  the territories scattered pacific ocean caribbean sea  at 38 million square miles  98 million km2  324 million people  united states world s thirdlargest country total area  fourthlargest land area  thirdmost populous  it one world s ethnically diverse multicultural nations  product largescale immigration many countries  the country s capital washington  dc largest city new york city  major metropolitan areas include los angeles  chicago  dallas  san francisco  boston  philadelphia  houston  atlanta  miami  the geography  climate wildlife country extremely diverse  paleoindians migrated asia north american mainland least 15000 years ago  european colonization beginning 16th century  the united states emerged 13 british colonies along east coast  numerous disputes great britain colonies aftermath seven years war led american revolution  began 1775  on july 4  1776  colonies fighting great britain american revolutionary war  delegates 13 colonies unanimously adopted declaration independence  the war ended 1783 recognition independence united states great britain  first successful war independence european colonial empire  the current constitution adopted 1788  articles confederation  adopted 1781  felt provided inadequate federal powers  the first ten amendments  collectively named bill rights  ratified 1791 designed guarantee many fundamental civil liberties  the united states embarked vigorous expansion across north america throughout 19th century  displacing american indian tribes  acquiring new territories  gradually admitting new states spanned continent 1848  during second half 19th century  american civil war led end legal slavery country  by end century  united states extended pacific ocean  economy  driven large part industrial revolution  began soar  the spanishamerican war world war i confirmed country s status global military power  the united states emerged world war ii global superpower  first country develop nuclear weapons  country use warfare  permanent member united nations security council  the end cold war dissolution soviet union 1991 left united states world s sole superpower  the united states highly developed country  world s largest economy nominal gdp  it ranks highly several measures socioeconomic performance  including average wage  human development  per capita gdp  productivity per person  while us economy considered postindustrial  characterized dominance services  manufacturing sector remains secondlargest world  though population 44  world total  united states accounts nearly quarter world gdp almost third global military spending  making world s foremost military economic power  the united states prominent political cultural force internationally  leader scientific research technological innovations \n",
      "Prediction: Animal , True: Country\n",
      "Abstract: the economic cooperation organisation eco  persian  سازمان همکاری اقتصادی  urdu  اقتصادی تعاون تنظیم  turkish  ekonomik i̇şbirliği teşkilatı  kazakh  экономикалық ынтымақтастық ұйымы  uzbek  iqtisodiy hamkorlik tashkiloti  kyrgyz  экономикалык кызматташтык уюмунун  azerbaijani  i̇qtisadi əməkdaşlıq təşkilatı  tajik  ташкилоти ҳамкории иқтисодӣ  pashto  اقتصادي همکاريو د سازمان  eurasian political economic intergovernmental organization founded 1985 tehran leaders iran  pakistan turkey  it provides platform discuss ways improve development promote trade investment opportunities  the eco ad hoc organization united nations charter  chap  viii   the objective establish single market goods services  much like european union  eco s secretariat cultural department located tehran  economic bureau turkey scientific bureau situated pakistan \n",
      "Prediction: Animal , True: Country\n",
      "Abstract: the state palestine  arabic  دولة فلسطين dawlat filasṭīn   also known simply palestine  de jure sovereign state middle east recognized 136 un members since 2012 status nonmember observer state united nations  amounts de facto  implicit  recognition statehood  the state palestine claims west bank  bordering israel jordan  gaza strip  bordering israel egypt  east jerusalem designated capital  most areas claimed state palestine occupied israel since 1967 aftermath sixday war  its independence declared 15 november 1988 palestine liberation organization  plo  algiers governmentinexile \n",
      "Prediction: City , True: Country\n",
      "Abstract: zeila  lughaya state  saylac  lughaya state  officially zeila  lughaya state somalia   somali  maamul goboleedka saylac  lughaya ee soomaaliya   region northwestern somalia  saylac lughaya state formed 2011 07 february 2012 ofitialy go somaliland  claiming federal state somalia  zeila state proclaimed first  it later united lugayhe form state sayla lugayhe  each individual state combined state flag  unlike secessionist somaliland region northern somalia  zelia  lughaya state trying obtain international recognition separate nation  however  government somaliland soon regained kind control territory  the territory total area 18566 km  its main city zeila  situated coast  lughaya  asha addo  harirad  jidhi lawyacado principal cities region \n",
      "Prediction: Animal , True: Country\n",
      "Abstract: madagascar  ˌmædəˈɡæskər  malagasy  madagasikara   officially republic madagascar  malagasy  repoblikani madagasikara  republiˈkʲan madaɡasˈkʲarə   french  république de madagascar   previously known malagasy republic  island country indian ocean  coast southeast africa  the nation comprises island madagascar  fourthlargest island world   numerous smaller peripheral islands  following prehistoric breakup supercontinent gondwana  madagascar split indian peninsula around 88 million years ago  allowing native plants animals evolve relative isolation  consequently  madagascar biodiversity hotspot  90  wildlife found nowhere else earth  the island s diverse ecosystems unique wildlife threatened encroachment rapidly growing human population environmental threats  the first archaeological evidence human foraging madagascar dates 2000 bc  human settlement madagascar occurred 350 bc ad 550 austronesian peoples arriving outrigger canoes borneo  these joined around ad 1000 bantu migrants crossing mozambique channel east africa  other groups continued settle madagascar time  one making lasting contributions malagasy cultural life  the malagasy ethnic group often divided 18 subgroups largest merina central highlands  until late 18th century  island madagascar ruled fragmented assortment shifting sociopolitical alliances  beginning early 19th century  island united ruled kingdom madagascar series merina nobles  the monarchy collapsed 1897 island absorbed french colonial empire  island gained independence 1960  the autonomous state madagascar since undergone four major constitutional periods  termed republics  since 1992  nation officially governed constitutional democracy capital antananarivo  however  popular uprising 2009  president marc ravalomanana made resign presidential power transferred march 2009 andry rajoelina  constitutional governance restored january 2014  hery rajaonarimampianina named president following 2013 election deemed fair transparent international community  madagascar member united nations  organisation internationale de la francophonie southern african development community  sadc   in 2012  population madagascar estimated 22 million  90  live less  2 per day  malagasy french official languages state  the majority population adheres traditional beliefs  christianity  amalgamation  ecotourism agriculture  paired greater investments education  health  private enterprise  key elements madagascar s development strategy  under ravalomanana  investments produced substantial economic growth  benefits evenly spread throughout population  producing tensions increasing cost living declining living standards among poor segments middle class  as 2014  economy weakened recently concluded political crisis  quality life remains low majority malagasy population \n",
      "Prediction: City , True: Country\n",
      "Abstract: guam  ˈɡwɑːm ˈɡwɒm  chamorro  guåhån  ˈɡʷɑhɑn   formally territory guam  unincorporated organized territory united states  located western pacific ocean  guam one five american territories established civilian government  the capital city hagåtña  populous city dededo  in 2015  161785 people resided guam  guamanians american citizens birth  guam area 544 km2  210 sq mi  density 297km²  770sq mi   it largest southernmost mariana islands  largest island micronesia  among municipalities  mongmongtotomaite highest density 1425km²  3691sq mi   whereas inarajan umatac lowest density 47km²  119sq mi   the highest point mount lamlam 406 meters  1332 ft  sea level  the chamorros  guam s indigenous people  settled island approximately 4000 years ago  portuguese explorer ferdinand magellan first european visit island march 6  1521  guam colonized 1668 settlers  like diego luis de san vitores  catholic missionary  between 1500s 1700s  guam important stopover spanish manila galleons  during spanishamerican war  united states captured guam june 21  1898  under treaty paris  spain ceded guam united states december 10  1898  guam among seventeen nonselfgoverning territories united nations  before world war ii  guam three territories  american samoa  hawaii  philippines  american jurisdictions pacific ocean  on december 7  1941  hours attack pearl harbor  guam captured japanese  occupied thirty months  during occupation  guamanians subjected culture alignment  forced labor  beheadings  rape  torture  guam endured hostilities american forces recaptured island july 21  1944  liberation day commemorates victory  since 1960s  economy supported two industries  tourism united states armed forces \n",
      "Prediction: City , True: Country\n",
      "Abstract: san marino  sæn məˈriːnoʊ  italian   san maˈriːno    officially republic san marino  italian  repubblica di san marino   also known most serene republic san marino  italian  serenissima repubblica di san marino   enclaved microstate surrounded italy  situated italian peninsula northeastern side apennine mountains  its size 61 km2  24 sq mi  estimated population 32000  its capital city san marino largest city dogana  san marino smallest population members council europe  san marino claims oldest surviving sovereign state constitutional republic world  continuation monastic community founded 3 september 301  stonecutter marinus arba  legend marinus left rab  roman colony arba  257 future emperor diocletian issued decree calling reconstruction city walls rimini  destroyed liburnian pirates  san marino governed constitution san marino  leges statutae republicae sancti marini   series six books written latin late 16th century  dictate country  political system  among matters  the country considered earliest written governing documents  constitution  still effect  the country s economy mainly relies finance  industry  services tourism  despite extremely small economy nation state  one wealthiest countries world terms gdp  per capita   figure comparable developed european regions  san marino considered highly stable economy  one lowest unemployment rates europe  national debt budget surplus  it country vehicles people \n",
      "Prediction: Animal , True: Country\n",
      "Abstract: the glacier republic micronation created advertising awareness campaign created greenpeace chile march 5  2014 protest mining corporations building near glacier causing damage  according activists  loopholes laws borders chile argentina loopholes regulations regarding sovereignty glaciers allowed legally create republic  chile contains 82  south america s glaciers  currently laws place protect  the activists say chile passed appropriate legislation recognizing guaranteeing integrity protection glaciers   the glacier republic citizens return glaciers chilean state   glacier republic cease exist  therefore  real purpose republic create longlasting country  force chilean government protect glaciers  within first ten days  independence   40000 people signed become  citizens  support republic  already opened embassies 40 countries around world  essentially countries greenpeace international already offices  \n",
      "Prediction: Animal , True: Country\n",
      "Abstract: the abc islands three westernmost islands leeward antilles caribbean sea lie north falcón state  venezuela  from west east  order aruba  curaçao  bonaire  all three islands part kingdom netherlands  although remain outside european union  aruba curaçao autonomous  selfgoverning constituent countries kingdom netherlands  bonaire special municipality netherlands proper \n",
      "Prediction: Person , True: Country\n",
      "Abstract: the republic zambia ˈzæmbiə landlocked country southern africa  neighbouring democratic republic congo north  tanzania northeast  malawi east  mozambique  zimbabwe  botswana namibia south  angola west  the capital city lusaka  southcentral part zambia  the population concentrated mainly around lusaka south copperbelt province northwest  core economic hubs country  originally inhabited khoisan peoples  region affected bantu expansion thirteenth century  after visits european explorers eighteenth century  zambia became british protectorate northern rhodesia towards end nineteenth century  for colonial period  zambia governed administration appointed london advice british south africa company  on 24 october 1964  zambia became independent united kingdom prime minister kenneth kaunda became inaugural president  kaunda s socialist united national independence party  unip  maintained power 1964 1991  kaunda played key role regional diplomacy  cooperating closely united states search solutions conflicts rhodesia  zimbabwe   angola  namibia  from 1972 1991 zambia oneparty state unip sole legal political party motto  one zambia  one nation   kaunda succeeded frederick chiluba socialdemocratic movement multiparty democracy 1991  beginning period socialeconomic growth government decentralisation  levy mwanawasa  chiluba s chosen successor  presided zambia january 2002 death august 2008  credited campaigns reduce corruption increase standard living  after mwanawasa s death  rupiah banda presided acting president elected president 2008  holding office three years  banda stepped defeat 2011 elections patriotic front party leader michael sata  sata died 28 october 2014  second zambian president die office  guy scott served briefly interim president new elections held 20 january 2015  edgar lungu elected sixth president  in 2010  world bank named zambia one world s fastest economically reformed countries  the common market eastern southern africa  comesa  headquartered lusaka \n",
      "Prediction: Animal , True: Country\n",
      "Abstract:  this article territory  for city  see gaza city  for 2002 film  see gaza strip  film   for government  see gaza governorate  for favela rio de janeiro known gaza strip  see complexo alemão   the gaza strip  ˈɡɑːzəˈstrɪp  arabic  قطاع غزة qiṭāʿ ġazzah  qɪˈtˤɑːʕ ˈɣazza    simply gaza  small selfgoverning palestinian territory eastern coast mediterranean sea  borders egypt southwest 11 kilometers  68 mi  israel east north along 51 km  32 mi  border  gaza  together west bank  comprise palestinian territories claimed palestinians state palestine  the territories gaza west bank separated israeli territory  both fall jurisdiction palestinian authority  gaza since june 2007 governed hamas  palestinian islamic organization came power free elections 2006  it placed israeli usled international economic political boycott time onwards  the territory 41 kilometers  25 mi  long  6 12 kilometers  37 75 mi  wide  total area 365 square kilometers  141 sq mi   with around 185 million palestinians 362 square kilometers  gaza ranks 3rd densely populated polity world  an extensive israeli buffer zone within strip renders much land offlimits gaza s palestinians  gaza annual population growth rate 291   2014 est    13th highest world  often referred overcrowded  the population expected increase 21 million 2020  by time  gaza may rendered unliveable  present trends continue  due israeli egyptian border closures israeli sea air blockade  population free leave enter gaza strip  allowed freely import export goods  sunni muslims make predominant part palestinian population gaza strip  despite 2005 israeli disengagement gaza  united nations  international human rights organisations  majority governments legal commentators consider territory still occupied israel  supported additional restrictions placed gaza egypt  israel maintains direct external control gaza indirect control life within gaza  controls gaza s air maritime space  six gaza s seven land crossings  it reserves right enter gaza military maintains nogo buffer zone within gaza territory  gaza dependent israel water  electricity  telecommunications  utilities  when hamas palestinian legislative election  2006  fatah refused join proposed coalition  shortlived unity government agreement brokered saudi arabia  when collapsed joint israeli united states pressure  palestinian authority instituted nonhamas government west bank hamas formed government gaza  further economic sanctions imposed israel european quartet hamas  a brief civil war two groups broken gaza  apparently usbacked plan  fatah contested hamas  administration  hamas emerged victor expelled fatahallied officials members pa s security apparatus strip  remained sole governing power gaza since date \n",
      "Prediction: Animal , True: Country\n",
      "Abstract: autonomous province kosovo metohija  serbian  аутономна покрајина косово и метохиja  autonomna pokrajina kosovo metohija  albanian  krahina autonome e kosovës dhe metohisë   also known simply kosovo  serbian cyrillic  косово  albanian  kosova  kosmet  serbian cyrillic  космет   name kosovo defined constitution serbia  the territory province disputed serbia selfproclaimed republic kosovo  defacto control  the territory province  recognized serbian laws  lies southern part serbia covers regions kosovo metohija  the capital province pristina  the territory previously called autonomous province kosovo  19461990  serbia part socialist republic yugoslavia   acquired current status 1990  the province governed part serbia kosovo war  became united nations  un  protectorate  still internationally recognized part serbia  the control transferred un administration unmik  in 2008  kosovo authorities declared independence  recognized majority un members  serbia still regards autonomous province \n",
      "Prediction: Animal , True: Country\n",
      "Abstract: greenland  greenlandic  kalaallit nunaat  kaˈlaːɬit ˈnunaːt   danish  grønland  ˈɡʁɶnˌlanˀ   autonomous country within danish realm  located arctic atlantic oceans  east canadian arctic archipelago  though physiographically part continent north america  greenland politically culturally associated europe  specifically norway denmark  colonial powers  well nearby island iceland  millennium  in 2008  people greenland passed referendum supporting greater autonomy  75  votes cast favour  greenland world s largest island  smaller australia  considered continent   threequarters greenland covered permanent ice sheet outside antarctica  with population 56480  2013   least densely populated country world  the arctic umiaq line ferry acts lifeline western greenland  connecting various cities settlements  greenland inhabited least last 4500 years arctic peoples whose forebears migrated canada  norsemen settled uninhabited southern part greenland beginning 10th century  inuit peoples arrived 13th century  the norse colonies disappeared late 15th century  soon demise  beginning 1499  portuguese briefly explored claimed island  naming terra lavrador  later applied labrador canada   in early 18th century  scandinavia greenland came back contact  denmarknorway affirmed sovereignty island  denmarknorway claimed greenland centuries  greenland settled norwegians thousand years ago  previously settled iceland escape persecution king norway central government  it greenland iceland norwegians would set sail discover america europeans almost 500 years columbus attempt colonize land  though continuous influence norway norwegians  greenland formally norwegian crown 1262  the kingdom norway extensive military power mid14th century  norway dramatically hit larger death toll denmark black death  forcing norway accept union central government  university fundamental institutions located copenhagen  thus  two kingdoms  resources directed creating copenhagen  resulting norway becoming weaker part losing sovereignty greenland 1814 dissolution union  greenland thus became danish colony 1814  part danish realm 1953 constitution denmark  in 1973  greenland joined european economic community denmark  however  referendum 1982  majority population voted greenland withdraw eec  later expanded eu   effected 1985  in 1979  denmark granted home rule greenland  2008  greenlanders voted favour selfgovernment act  transferred power danish royal government local greenlandic government  under new structure  effect since 21 june 2009  greenland gradually assume responsibility policing  judicial system  company law  accounting  auditing  mineral resource activities  aviation  law legal capacity  family law succession law  aliens border controls  working environment  financial regulation supervision  danish government retains control foreign affairs defence  it also retains control monetary policy  providing initial annual subsidy dkk 34 billion  planned diminish gradually time greenland s economy strengthened increased income extraction natural resources  the capital  nuuk  held 2016 arctic winter games  greenland leads world renewable energy  70  energy renewable sources \n",
      "Prediction: City , True: Country\n",
      "Abstract: israel  ˈɪzreɪəl  hebrew  ישראל yisrāel  arabic  إسرائيل isrāʼīl   officially known state israel  hebrew  מדינת ישראל  mediˈnat jisʁaˈʔel   arabic  دولة إسرائيل dawlat isrāʼīl  dawlat ʔisraːˈʔiːl    country middle east  southeastern shore mediterranean sea northern shore red sea  it land borders lebanon north  syria northeast  jordan east  palestinian territories west bank gaza strip east west  respectively  egypt southwest  the country contains geographically diverse features within relatively small area  israel s financial technology center tel aviv jerusalem proclaimed capital  although israeli sovereignty jerusalem internationally unrecognized  on 29 november 1947  united nations general assembly adopted partition plan mandatory palestine  this specified borders new arab jewish states area jerusalem administered un international regime  the end british mandate palestine set midnight 14 may 1948  that day  david bengurion  executive head zionist organization president jewish agency palestine  declared  establishment jewish state eretz israel  known state israel   would start function termination mandate  the borders new state specified declaration  neighboring arab armies invaded former british mandate next day fought israeli forces  israel since fought several wars neighboring arab states  course occupied west bank  sinai peninsula  195657  196782   part southern lebanon  19822000   gaza strip  19672005  still considered occupied 2005 disengagement  golan heights  it extended laws golan heights east jerusalem  west bank  efforts resolve israelipalestinian conflict resulted peace  however  peace treaties israel egypt jordan successfully signed  israel s occupation gaza  west bank east jerusalem world s longest military occupation modern times  the population israel  defined israel central bureau statistics  estimated 2016 8541000 people  it world s jewishmajority state  6388800 citizens  748   designated jewish  the country s second largest group citizens arabs  numbering 1775400 people  including druze east jerusalem arabs   the great majority israeli arabs sunni muslims  including significant numbers semisettled negev bedouins  rest christians druze  other minorities include arameans  assyrians  samaritans  armenians  circassians  dom people  maronites vietnamese  the black hebrew israelites subject slow process deeper integration  still majority permanent residents rather citizens  israel also hosts significant population noncitizen foreign workers asylum seekers africa asia  including illegal migrants sudan  eritrea subsaharan africans  in basic laws  israel defines jewish democratic state  israel representative democracy parliamentary system  proportional representation universal suffrage  the prime minister serves head government knesset serves legislature  israel developed country oecd member  35thlargest economy world nominal gross domestic product 2015  the country benefits highly skilled workforce among educated countries world one highest percentage citizens holding tertiary education degree  the country highest standard living middle east fourth highest asia  one highest life expectancies world \n",
      "Prediction: Animal , True: Country\n",
      "Abstract: the metropolis lyon  french  métropole de lyon   also known grand lyon  ie   greater lyon    french territorial collectivity  collectivité territoriale  special status located central eastern region auvergnerhônealpes  encompassing city lyon suburbs  it replaced urban community lyon january 1  2015  accordance mapam law enacted january 2014 \n",
      "Prediction: Animal , True: Country\n",
      "Abstract: ivory coast  ˌaɪvəri ˈkoʊst  côte divoire  ˌkoʊt dᵻˈvwɑːr  koht deevwahr  french   kot divwaʁ    officially named republic côte divoire  french  république de côte divoire   country located west africa  ivory coast s political capital yamoussoukro  economic capital largest city port city abidjan  its bordering countries guinea liberia west  burkina faso mali north  ghana east  the gulf guinea  atlantic ocean  located south ivory coast  prior colonization europeans  ivory coast home several states  including gyaaman  kong empire  baoulé  two anyi kingdoms  indénié sanwi  attempted retain separate identity french colonial period independence  ivory coast became protectorate france 184344 later formed french colony 1893 amid european scramble africa  ivory coast achieved independence 1960  led félix houphouëtboigny  ruled country 1993  it maintained close political economic association west african neighbors time maintaining close ties west  especially france  since end houphouëtboigny s rule 1993  ivory coast experienced one coup détat  1999  two religiongrounded civil wars  the first took place 2002 2007 second 20102011  ivory coast republic strong executive power invested president  through production coffee cocoa  country economic powerhouse west africa 1960s 1970s  ivory coast went economic crisis 1980s  contributing period political social turmoil  changing 21stcentury ivorian economy largely marketbased still relies heavily agriculture  smallholder cashcrop production dominant  the official language french  local indigenous languages also widely used  including baoulé  dioula  dan  anyin  cebaara senufo  in total around 78 languages spoken ivory coast  the main religions islam  christianity  primarily roman catholicism   various indigenous religions \n",
      "Prediction: Animal , True: Country\n",
      "Abstract: bunyoro kingdom western uganda  it one powerful kingdoms central east africa 13th century 19th century  it ruled omukama bunyoro  the current ruler solomon iguru i  27th omukama  king  bunyorokitara  the people bunyoro also known nyoro banyoro  singular  munyoro   banyoro means  people bunyoro    language spoken nyoro  also known runyoro   in past  traditional economy revolved around big game hunting elephants  lions  leopards  crocodiles  today  banyoro agriculturalists cultivate bananas  millet  cassava  yams  cotton  tobacco  coffee  rice  the people primarily christian \n",
      "Prediction: Animal , True: Country\n",
      "Abstract: chile  ˈtʃɪli  spanish   ˈtʃile    officially republic chile  spanish    south american country occupying long  narrow strip land andes east pacific ocean west  it borders peru north  bolivia northeast  argentina east  drake passage far south  chilean territory includes pacific islands juan fernández  salas gómez  desventuradas  easter island oceania  chile also claims 1250000 square kilometres  480000 sq mi  antarctica  although claims suspended antarctic treaty  the arid atacama desert northern chile contains great mineral wealth  principally copper  the relatively small central area dominates terms population agricultural resources  cultural political center chile expanded late 19th century incorporated northern southern regions  southern chile rich forests grazing lands  features string volcanoes lakes  the southern coast labyrinth fjords  inlets  canals  twisting peninsulas  islands  spain conquered colonized chile mid16th century  replacing inca rule northern central chile  failing conquer independent mapuche inhabited southcentral chile  after declaring independence spain 1818  chile emerged 1830s relatively stable authoritarian republic  in 19th century  chile saw significant economic territorial growth  ending mapuche resistance 1880s gaining current northern territory war pacific  187983  defeating peru bolivia  in 1960s 1970s country experienced severe leftright political polarization turmoil  this development culminated 1973 chilean coup détat overthrew salvador allende s democraticallyelected leftwing government instituted 16yearlong rightwing military dictatorship left 3000 people dead missing  the regime  headed augusto pinochet  ended 1990 lost referendum 1988 succeeded centerleft coalition ruled four presidencies 2010  chile today one south america s stable prosperous nations  it leads latin american nations rankings human development  competitiveness  income per capita  globalization  state peace  economic freedom  low perception corruption  it also ranks high regionally sustainability state  democratic development  chile founding member united nations  union south american nations community latin american caribbean states \n",
      "Prediction: Animal , True: Country\n",
      "Abstract: cyprus  ˈsaɪprəs  greek  κύπρος ipa   ˈcipros   turkish  kıbrıs ipa   ˈkɯbɾɯs    officially republic cyprus  greek  κυπριακή δημοκρατία  turkish  kıbrıs cumhuriyeti   island country eastern mediterranean third largest third populous island mediterranean  it located south turkey  west syria lebanon  northwest israel palestine  north egypt  southeast greece  the earliest known human activity island dates around 10th millennium bc  archaeological remains period include wellpreserved neolithic village khirokitia  cyprus home oldest water wells world  cyprus settled mycenaean greeks two waves 2nd millennium bc  as strategic location middle east  subsequently occupied several major powers  including empires assyrians  egyptians persians  island seized 333 bc alexander great  subsequent rule ptolemaic egypt  classical eastern roman empire  arab caliphates short period  french lusignan dynasty venetians  followed three centuries ottoman rule 1571 1878  de jure 1914   cyprus placed british administration based cyprus convention 1878 formally annexed britain 1914  while turkish cypriots made 18  population  partition cyprus creation turkish state north became policy turkish cypriot leaders turkey 1950s  turkish leaders period advocated annexation cyprus turkey cyprus considered  extension anatolia   since 19th century  majority greek cypriot population orthodox church pursuing union greece  became greek national policy 1950s  following nationalist violence 1950s  cyprus granted independence 1960  in 1963  11year intercommunal violence greek cypriots turkish cypriots started  displaced 25000 turkish cypriots brought end turkish cypriot representation republic  on 15 july 1974  coup détat staged greek cypriot nationalists elements greek military junta attempt enosis  incorporation cyprus greece  this action precipitated turkish invasion cyprus  led capture presentday territory northern cyprus following month  ceasefire collapsed  displacement 150000 greek cypriots 50000 turkish cypriots  a separate turkish cypriot state north established unilateral declaration 1983  move widely condemned international community  turkey alone recognizing new state  these events resulting political situation matters continuing dispute  the cyprus republic de jure sovereignty island cyprus  well territorial sea exclusive economic area  according international law  except british overseas territory akrotiri dhekelia  administered sovereign base areas  28  territory   however  republic cyprus de facto partitioned two main parts  area effective control republic  located south west  comprising 59  island s area  north  administered selfdeclared turkish republic northern cyprus  covering 37  island s area  another nearly 4  island s area covered un buffer zone  the international community considers northern part island territory republic cyprus occupied turkish forces  the occupation viewed illegal international law  amounting illegal occupation eu territory since cyprus became member european union  cyprus major tourist destination mediterranean  with advanced  highincome economy high human development index  republic cyprus member commonwealth since 1961 founding member nonaligned movement joined european union 1 may 2004  on 1 january 2008  republic cyprus joined eurozone \n",
      "Prediction: Person , True: Animal\n",
      "Abstract: jason roach  born july 11  1984 saint john  new brunswick  canadian curler  roach twice  2004 2005  new brunswick men s junior championships playing third team skipped ryan sherrard  the team canadian junior curling championships first attempt 2004  they finished round robin 93 record  three way tie first  the team would go win playoff games  including final manitoba s daley peters  the team represented canada 2004 world junior curling championships  the team finished round robin 54 record  tied korea  however  lost tiebreaker match koreans  at 2005 canadian junior curling championships could repeat title  finishing 57 record  after juniors  roach would go play number different teams  he joined grattan 2012  roach played two seasons world curling tour  his first season 200809 playing second jim sullivan played two events diversified transportation canada cup qualifier challenge casino de charlevoix  his second wct season grattan played 2012 curling masters champéry  roach made first brier appearance grattan rink 2013 molson canadian men s provincial curling championship  qualifying team represent new brunswick 2013 tim hortons brier  his brother  darren roach plays second team also teammate canadian junior championship team \n",
      "Prediction: Person , True: Country\n",
      "Abstract: denmark  ˈdɛnmɑːrk  danish  danmark  ˈdænmɑɡ   scandinavian country territory europe north america  the populated part country southwest sweden south norwaythe unified kingdom denmark emerged 10th century proficient seafaring nation struggle control baltic sea  denmark  sweden norway ruled together kalmar union  established 1397 ending swedish secession 1523  denmark norway remained monarch outside forces dissolved union 1814  the union norway made possible denmark inherit faroe islands  iceland  greenland  beginning 17th century  several cessions territory sweden  in 19th century surge surge nationalist movements  defeated 1864 second schleswig war  denmark remained neutral world war i  in april 1940  german invasion saw brief military skirmishes danish resistance movement active 1943 german surrender may 1945  an industrialised exporter agricultural produce second half 19th century  denmark introduced social labourmarket reforms early 20th century created basis present welfare state model highly developed mixed economy  the constitution denmark signed 5 june 1849  ending absolute monarchy begun 1660  it establishes constitutional monarchythe current monarch queen margrethe iiorganised parliamentary democracy  the government national parliament seated copenhagen  nation s capital  largest city main commercial centre  denmark exercises hegemonic influence danish realm  devolving powers handle internal affairs  home rule established faroe islandsin 1948  greenland home rule established 1979 autonomy 2009  denmark became member european economic community  eu  1973  maintaining certain optouts  retains currency  krone  it among founding members nato  nordic council  oecd  osce  united nations  also part schengen area  danes enjoy high standard living country ranks highly metrics national performance  including education  health care  protection civil liberties  democratic governance  prosperity human development  the country ranks world s highest social mobility  high level income equality  country lowest perceived level corruption world  one world s highest per capita incomes  one world s highest personal income tax rates \n",
      "Prediction: Animal , True: Country\n",
      "Abstract: grande comore  swahili  ngazidja  island indian ocean coast africa  it largest island comoros nation  most population comorian ethnic group  its population 2006 316600  the island s capital moroni  also national capital  the island made two shield volcanoes  mount karthala country s highest point 2361  7746 ft  sea level  according 2009 revision constitution 2002  governed elected governor  islands  federal government much reduced power  the name ngazidja sometimes seen incorrect form njazidja \n",
      "Prediction: Animal , True: Country\n",
      "Abstract: algeria  arabic  الجزائر aljazāir  berber  dzayer  ⴷⵣⴰⵢⴻⵔ  french  algérie   officially people s democratic republic algeria  sovereign state north africa mediterranean coast  its capital populous city algiers  located country s far north  with area 2381741 square kilometres  919595 sq mi   algeria tenthlargest country world  largest africa  algeria bordered northeast tunisia  east libya  west morocco  southwest western saharan territory  mauritania  mali  southeast niger  north mediterranean sea  the country semipresidential republic consisting 48 provinces 1541 communes  counties   abdelaziz bouteflika president since 1999  ancient algeria known many empires dynasties  including ancient numidians  phoenicians  carthaginians  romans  vandals  byzantines  umayyads  abbasids  idrisid  aghlabid  rustamid  fatimids  zirid  hammadids  almoravids  almohads  ottomans french colonial empire  berbers generally considered indigenous inhabitants algeria  following arab conquest north africa  indigenous inhabitants arabised  thus  although algerians berber origin  identify arab identity  en masse  algerians mix berbers additional elements arabs  turks  subsaharan africans andalusians  people southern spain migrated reconquista   algeria regional middle power  the north african country supplies large amounts natural gas europe  energy exports backbone economy  according opec algeria 17th largest oil reserves world second largest africa  9th largest reserves natural gas  sonatrach  national oil company  largest company africa  algeria one largest militaries africa largest defence budget continent  algeria s weapons imported russia  close ally  algeria member african union  arab league  opec  united nations founding member maghreb union \n",
      "Prediction: Animal , True: Person\n",
      "Abstract: bror julius olsson nordfeldt  april 13  1878  april 21  1955  american artist painted seascapes depictions new mexico s indigenous culture \n",
      "Prediction: Animal , True: Country\n",
      "Abstract: the pacific alliance  spanish  alianza del pacífico  latin american trade bloc  features integration  it currently four member states  chile  colombia  mexico peru  border pacific ocean  costa rica began process joining alliance 10 february 2014 \n",
      "Prediction: City , True: Country\n",
      "Abstract: libya  arabic  ليبيا lībiyā  country maghreb region north africa  bordered mediterranean sea north  egypt east  sudan southeast  chad niger south  algeria tunisia west  the three traditional parts country tripolitania  fezzan cyrenaica  with area almost 18 million square kilometres  700000 sq mi   libya fourth largest country africa  16th largest country world  libya 10thlargest proven oil reserves country world  the largest city capital  tripoli  located western libya contains one million libya s six million people  the large city benghazi  located eastern libya  libya inhabited berbers since late bronze age  the phoenicians established trading posts western libya  ancient greek colonists established citystates eastern libya  libya variously ruled carthaginians  persians  egyptians greeks becoming part roman empire  libya early center christianity  after fall western roman empire  area libya mostly occupied vandals 7th century  invasions brought islam arab colonization  in sixteenth century  spanish empire knights st john occupied tripoli  ottoman rule began 1551  libya involved barbary wars 18th 19th centuries  ottoman rule continued italian occupation libya resulted temporary italian libya colony 1911 1943  during second world war libya important area warfare north african campaign  the italian population went decline  libya became independent kingdom 1951  a military coup 1969 overthrew king idris i  beginning period sweeping social reform  the prominent coup figure  muammar gaddafi  ultimately able fully concentrate power hands libyan cultural revolution  remaining power libyan civil war 2011  rebels supported nato  since  libya experienced period instability  the european union involved operation disrupt human trafficking networks exploiting refugees fleeing wars africa europe  at least two political bodies claim government libya  the council deputies internationally recognized legitimate government  hold territory capital  tripoli  instead meeting cyrenaica city tobruk  meanwhile  2014 general national congress purports legal continuation general national congress  elected 2012 libyan general national congress election dissolved following june 2014 elections reconvened minority members  the supreme court libya dawn general national congresscontrolled tripoli declared tobruk government unconstitutional november 2014  internationally recognized government rejected ruling made threat violence  parts libya outside either government s control  various islamist  rebel  tribal militias administering cities areas  the united nations sponsoring peace talks tobruk tripolibased factions  an agreement form unified interim government signed 17 december 2015  under terms agreement  ninemember presidency council seventeenmember interim government national accord would formed  view holding new elections within two years  the leaders new government  called government national accord  gna   arrived tripoli april 5  2016  since gnc  one two rival governments  disbanded support new gna \n"
     ]
    }
   ],
   "source": [
    "for idx, row in enumerate(test_x):\n",
    "    if test_y.iloc[idx] != predictions[idx]:\n",
    "        print('Prediction:',predictions[idx],', True:',test_y.iloc[idx])\n",
    "        print('Abstract:',row)"
   ]
  },
  {
   "cell_type": "markdown",
   "metadata": {},
   "source": [
    "Precision score per class"
   ]
  },
  {
   "cell_type": "code",
   "execution_count": 11,
   "metadata": {},
   "outputs": [],
   "source": [
    "precision = precision_score(test_y, predictions, average=None)\n",
    "recall = recall_score(test_y, predictions, average=None)\n",
    "f1 = f1_score(test_y, predictions, average=None)"
   ]
  },
  {
   "cell_type": "code",
   "execution_count": 12,
   "metadata": {},
   "outputs": [
    {
     "ename": "SyntaxError",
     "evalue": "invalid syntax (<ipython-input-12-ec8dc30afd40>, line 4)",
     "output_type": "error",
     "traceback": [
      "\u001b[0;36m  File \u001b[0;32m\"<ipython-input-12-ec8dc30afd40>\"\u001b[0;36m, line \u001b[0;32m4\u001b[0m\n\u001b[0;31m    plt.show()\u001b[0m\n\u001b[0m      ^\u001b[0m\n\u001b[0;31mSyntaxError\u001b[0m\u001b[0;31m:\u001b[0m invalid syntax\n"
     ]
    }
   ],
   "source": [
    "metrics = pd.DataFrame(np.c_[precision,recall,f1], index=classes)\n",
    "metrics.columns = ['precision', 'recall', 'f1 score']\n",
    "metrics.plot.bar(rot=0)\n",
    "plt.show()"
   ]
  },
  {
   "cell_type": "code",
   "execution_count": null,
   "metadata": {},
   "outputs": [],
   "source": []
  }
 ],
 "metadata": {
  "kernelspec": {
   "display_name": "Python 3",
   "language": "python",
   "name": "python3"
  },
  "language_info": {
   "codemirror_mode": {
    "name": "ipython",
    "version": 3
   },
   "file_extension": ".py",
   "mimetype": "text/x-python",
   "name": "python",
   "nbconvert_exporter": "python",
   "pygments_lexer": "ipython3",
   "version": "3.6.5"
  }
 },
 "nbformat": 4,
 "nbformat_minor": 2
}
