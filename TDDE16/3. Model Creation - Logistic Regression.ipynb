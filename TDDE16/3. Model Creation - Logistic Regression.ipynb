{
 "cells": [
  {
   "cell_type": "markdown",
   "metadata": {},
   "source": [
    "# Model Creation - Logistic Regression\n",
    "This notebook creates the model that classify the abstracts"
   ]
  },
  {
   "cell_type": "code",
   "execution_count": 17,
   "metadata": {},
   "outputs": [],
   "source": [
    "import pandas as pd\n",
    "import numpy as np\n",
    "from sklearn.feature_extraction.text import TfidfVectorizer, TfidfTransformer, CountVectorizer\n",
    "from sklearn.model_selection import train_test_split\n",
    "from sklearn.linear_model import LogisticRegression\n",
    "from sklearn.pipeline import Pipeline\n",
    "from sklearn.metrics import classification_report,accuracy_score, confusion_matrix"
   ]
  },
  {
   "cell_type": "markdown",
   "metadata": {},
   "source": [
    "Import data"
   ]
  },
  {
   "cell_type": "code",
   "execution_count": 18,
   "metadata": {},
   "outputs": [
    {
     "data": {
      "text/plain": [
       "'bojan pandžić  born 13 march 1982  swedish football referee  pandžić currently resides hisings backa  part gothenburg  he full international referee fifa since 2014  he became professional referee 2004 allsvenskan referee since 2009  pandzic refereed 42 matches allsvenskan  65 matches superettan 8 international matches 2014 '"
      ]
     },
     "execution_count": 18,
     "metadata": {},
     "output_type": "execute_result"
    }
   ],
   "source": [
    "data = pd.read_pickle('preprocessed_abstracts.pkl')\n",
    "data.iloc[0]['abstract']"
   ]
  },
  {
   "cell_type": "markdown",
   "metadata": {},
   "source": [
    "Divide into training and test data. 80% train 20% test."
   ]
  },
  {
   "cell_type": "code",
   "execution_count": 19,
   "metadata": {},
   "outputs": [],
   "source": [
    "x = data['abstract']\n",
    "y = data['label']\n",
    "\n",
    "train_x, test_x, train_y, test_y = train_test_split(x,y,test_size=0.2, random_state=1)"
   ]
  },
  {
   "cell_type": "code",
   "execution_count": 20,
   "metadata": {},
   "outputs": [],
   "source": [
    "nb = Pipeline([('vect', CountVectorizer()),\n",
    "               ('tfidf', TfidfTransformer()),\n",
    "               ('clf', LogisticRegression()),\n",
    "              ])"
   ]
  },
  {
   "cell_type": "code",
   "execution_count": 21,
   "metadata": {},
   "outputs": [
    {
     "data": {
      "text/plain": [
       "Pipeline(memory=None,\n",
       "     steps=[('vect', CountVectorizer(analyzer='word', binary=False, decode_error='strict',\n",
       "        dtype=<class 'numpy.int64'>, encoding='utf-8', input='content',\n",
       "        lowercase=True, max_df=1.0, max_features=None, min_df=1,\n",
       "        ngram_range=(1, 1), preprocessor=None, stop_words=None,\n",
       "        strip...ty='l2', random_state=None, solver='liblinear', tol=0.0001,\n",
       "          verbose=0, warm_start=False))])"
      ]
     },
     "execution_count": 21,
     "metadata": {},
     "output_type": "execute_result"
    }
   ],
   "source": [
    "nb.fit(train_x, train_y)"
   ]
  },
  {
   "cell_type": "code",
   "execution_count": 22,
   "metadata": {},
   "outputs": [],
   "source": [
    "predictions = nb.predict(test_x)"
   ]
  },
  {
   "cell_type": "code",
   "execution_count": 23,
   "metadata": {},
   "outputs": [
    {
     "name": "stdout",
     "output_type": "stream",
     "text": [
      "accuracy 0.9991772932949403\n",
      "             precision    recall  f1-score   support\n",
      "\n",
      "     Person       1.00      1.00      1.00      1955\n",
      "       City       1.00      1.00      1.00      1846\n",
      "     Animal       1.00      1.00      1.00      1061\n",
      "\n",
      "avg / total       1.00      1.00      1.00      4862\n",
      "\n"
     ]
    }
   ],
   "source": [
    "print('accuracy %s' % accuracy_score(predictions, test_y))\n",
    "print(classification_report(test_y, predictions,target_names=data['label'].unique()))"
   ]
  },
  {
   "cell_type": "code",
   "execution_count": 24,
   "metadata": {},
   "outputs": [
    {
     "name": "stdout",
     "output_type": "stream",
     "text": [
      "[[1058    0    3]\n",
      " [   0 1846    0]\n",
      " [   1    0 1954]]\n"
     ]
    }
   ],
   "source": [
    "print(confusion_matrix(test_y, predictions, labels=data['label'].unique()))"
   ]
  },
  {
   "cell_type": "code",
   "execution_count": 25,
   "metadata": {},
   "outputs": [
    {
     "name": "stdout",
     "output_type": "stream",
     "text": [
      "Prediction: Animal , True: Person\n",
      "Abstract: marin aleksov founder ceo rosland capital  seller gold precious metals  aleksov founded santa monica  california based company 2008 \n",
      "Prediction: Animal , True: Person\n",
      "Abstract: magnum st pierre dance producer owned operated ensuite studios san francisco \n",
      "Prediction: Person , True: Animal\n",
      "Abstract: jason roach  born july 11  1984 saint john  new brunswick  canadian curler  roach twice  2004 2005  new brunswick men s junior championships playing third team skipped ryan sherrard  the team canadian junior curling championships first attempt 2004  they finished round robin 93 record  three way tie first  the team would go win playoff games  including final manitoba s daley peters  the team represented canada 2004 world junior curling championships  the team finished round robin 54 record  tied korea  however  lost tiebreaker match koreans  at 2005 canadian junior curling championships could repeat title  finishing 57 record  after juniors  roach would go play number different teams  he joined grattan 2012  roach played two seasons world curling tour  his first season 200809 playing second jim sullivan played two events diversified transportation canada cup qualifier challenge casino de charlevoix  his second wct season grattan played 2012 curling masters champéry  roach made first brier appearance grattan rink 2013 molson canadian men s provincial curling championship  qualifying team represent new brunswick 2013 tim hortons brier  his brother  darren roach plays second team also teammate canadian junior championship team \n",
      "Prediction: Animal , True: Person\n",
      "Abstract: rudolph john anderson  18791961  american biochemist \n"
     ]
    }
   ],
   "source": [
    "for idx, row in enumerate(test_x):\n",
    "    if test_y.iloc[idx] != predictions[idx]:\n",
    "        print('Prediction:',predictions[idx],', True:',test_y.iloc[idx])\n",
    "        print('Abstract:',row)"
   ]
  },
  {
   "cell_type": "code",
   "execution_count": null,
   "metadata": {},
   "outputs": [],
   "source": []
  }
 ],
 "metadata": {
  "kernelspec": {
   "display_name": "Python 3",
   "language": "python",
   "name": "python3"
  },
  "language_info": {
   "codemirror_mode": {
    "name": "ipython",
    "version": 3
   },
   "file_extension": ".py",
   "mimetype": "text/x-python",
   "name": "python",
   "nbconvert_exporter": "python",
   "pygments_lexer": "ipython3",
   "version": "3.7.0"
  }
 },
 "nbformat": 4,
 "nbformat_minor": 2
}
